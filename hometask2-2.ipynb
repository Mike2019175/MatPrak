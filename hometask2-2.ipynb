{
 "cells": [
  {
   "cell_type": "code",
   "execution_count": 28,
   "metadata": {},
   "outputs": [
    {
     "name": "stdout",
     "output_type": "stream",
     "text": [
      "[[0.76077623 0.13116069 0.84120795]\n",
      " [0.97657674 0.15527495 0.16040592]\n",
      " [0.34054152 0.64177348 0.81898039]\n",
      " [0.40112758 0.45875265 0.96148934]\n",
      " [0.35870849 0.4747925  0.29362166]\n",
      " [0.59198989 0.28212206 0.74860692]\n",
      " [0.71709895 0.93937563 0.19290164]\n",
      " [0.94490748 0.62801361 0.46299723]\n",
      " [0.56166832 0.2053925  0.07679477]\n",
      " [0.72625256 0.53400794 0.74822879]]\n",
      "0.7607762263877376\n",
      "0.16040592160912803\n",
      "0.641773475186287\n",
      "0.4587526523660599\n",
      "0.47479249564196446\n",
      "0.5919898949751241\n",
      "0.7170989463514212\n",
      "0.46299722582723635\n",
      "0.5616683237079096\n",
      "0.5340079442031412\n"
     ]
    }
   ],
   "source": [
    "import math\n",
    "import numpy as np\n",
    "a = np.random.random((10,3))\n",
    "print(a)\n",
    "for i in range(10):\n",
    "    k=0.5\n",
    "    n=0\n",
    "    for j in range(3):\n",
    "        if abs(a[i][j]-0.5)<k:\n",
    "            k=abs(a[i][j]-0.5)\n",
    "            n=a[i][j]\n",
    "    print(n)"
   ]
  },
  {
   "cell_type": "code",
   "execution_count": 41,
   "metadata": {},
   "outputs": [
    {
     "name": "stdout",
     "output_type": "stream",
     "text": [
      "[[0.27088108 0.00982235 0.27503129 0.63121353 0.15609868 0.17036547]\n",
      " [0.10589455 0.57732299 0.46544934 0.18338235 0.31067304 0.87942989]\n",
      " [0.80053925 0.65319803 0.12190865 0.84722501 0.01024682 0.41051901]\n",
      " [0.32327638 0.78843089 0.89102267 0.35068509 0.6523321  0.42728306]\n",
      " [0.32705419 0.32638968 0.5053536  0.45692801 0.66432194 0.95477657]\n",
      " [0.83178024 0.52913053 0.00321774 0.23448359 0.48520748 0.99339204]]\n",
      "14.29169274267013\n",
      "256.7767411802427\n",
      "883.7381446898263\n",
      "18.720614565164368\n",
      "315.69055049381575\n",
      "18.06241398612527\n"
     ]
    }
   ],
   "source": [
    "import numpy as np\n",
    "a = np.random.random((6,6))\n",
    "print(a)\n",
    "for i in range(6):\n",
    "    b=np.sum(a[i])\n",
    "    m=1\n",
    "    for j in range(6):\n",
    "        if a[j][i]<m:\n",
    "            m=a[j][i]\n",
    "    print(b/m)"
   ]
  },
  {
   "cell_type": "code",
   "execution_count": 48,
   "metadata": {},
   "outputs": [
    {
     "name": "stdout",
     "output_type": "stream",
     "text": [
      "[6 2 0 3 0 0 5 7 0]\n",
      "7\n"
     ]
    }
   ],
   "source": [
    "import numpy as np\n",
    "x = np.array([6,2,0,3,0,0,5,7,0])\n",
    "print(x)\n",
    "m=0\n",
    "for i in range(9):\n",
    "    if x[i]>m and x[i+1]==0:\n",
    "        m=x[i]\n",
    "print(m)"
   ]
  },
  {
   "cell_type": "code",
   "execution_count": 51,
   "metadata": {},
   "outputs": [
    {
     "name": "stdout",
     "output_type": "stream",
     "text": [
      "[1. 1. 1. 1. 1. 1. 1. 1. 1. 1.] [0 1 2 3 5 5 5 8]\n",
      "[2. 2. 2. 2. 1. 4. 1. 1. 2. 1.]\n"
     ]
    }
   ],
   "source": [
    "import numpy as np\n",
    "x = np.ones(10)\n",
    "i=np.array([0,1,2,3,5,5,5,8])\n",
    "print(x,i)\n",
    "for j in range(10):\n",
    "    for k in i:\n",
    "        if j==k:\n",
    "            x[j]=x[j]+1\n",
    "print(x)"
   ]
  },
  {
   "cell_type": "code",
   "execution_count": 19,
   "metadata": {},
   "outputs": [
    {
     "name": "stdout",
     "output_type": "stream",
     "text": [
      "[[ 0  1  2  3]\n",
      " [ 4  5  6  7]\n",
      " [ 8  9 10 11]\n",
      " [12 13 14 15]]\n",
      "0 : [0]\n",
      "1 : [1]\n",
      "1 : [4]\n",
      "2 : [2]\n",
      "2 : [5]\n",
      "2 : [8]\n",
      "3 : [3]\n",
      "3 : [6]\n",
      "3 : [9]\n",
      "3 : [12]\n",
      "4 : [7]\n",
      "4 : [10]\n",
      "4 : [13]\n",
      "5 : [11]\n",
      "5 : [14]\n",
      "6 : [15]\n"
     ]
    }
   ],
   "source": [
    "import numpy as np\n",
    "a = np.arange(16).reshape(4,4)\n",
    "print(a)\n",
    "n=a.shape[0]\n",
    "k=0\n",
    "for i in range(n*2-1):\n",
    "    for j in range(i+1):\n",
    "        if j<n and i-j<n:\n",
    "            print(i,\":\",[a[j,i-j]])"
   ]
  },
  {
   "cell_type": "code",
   "execution_count": 3,
   "metadata": {},
   "outputs": [],
   "source": [
    "import math\n",
    "import numpy as np\n",
    "def get_score(pts, centroids, labels):\n",
    "    return sum( \\\n",
    "        np.linalg.norm(pts[labels == label] - centroids[label], axis=1).sum() \\\n",
    "            for label in range(centroids.shape[0]) \\\n",
    "    ) / pts.shape[0]\n",
    "def kmeans(obs, k_or_guess, iter=10, thresh=1e-04):\n",
    "    centroids = np.random.random((k_or_guess, obs.shape[1]))\n",
    "    labels = get_labels(obs, centroids)\n",
    "    score = get_score(obs, centroids, labels)\n",
    "    best_score = score\n",
    "    best_centroids = centroids\n",
    "    while True:\n",
    "        centroids = np.array([obs[labels == label].mean(axis=0) for label in range(centroids.shape[0])])\n",
    "        labels = get_labels(obs, centroids)\n",
    "        old_score = score\n",
    "        score = get_score(obs, centroids, labels)\n",
    "\n",
    "        if score < best_score:\n",
    "            best_score = score\n",
    "            best_centroids = centroids\n",
    "        \n",
    "        if not isinstance(k_or_guess, np.ndarray):\n",
    "            iter = iter - 1\n",
    "            if iter == 0:\n",
    "                break\n",
    "        \n",
    "        if abs(score - old_score) < thresh:\n",
    "            break\n",
    "\n",
    "    return best_centroids, best_score\n"
   ]
  },
  {
   "cell_type": "code",
   "execution_count": null,
   "metadata": {},
   "outputs": [],
   "source": []
  },
  {
   "cell_type": "code",
   "execution_count": null,
   "metadata": {},
   "outputs": [],
   "source": []
  }
 ],
 "metadata": {
  "kernelspec": {
   "display_name": "Python 3",
   "language": "python",
   "name": "python3"
  },
  "language_info": {
   "codemirror_mode": {
    "name": "ipython",
    "version": 3
   },
   "file_extension": ".py",
   "mimetype": "text/x-python",
   "name": "python",
   "nbconvert_exporter": "python",
   "pygments_lexer": "ipython3",
   "version": "3.7.0"
  }
 },
 "nbformat": 4,
 "nbformat_minor": 2
}
