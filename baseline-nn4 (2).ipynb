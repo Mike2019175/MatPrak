{
 "cells": [
  {
   "cell_type": "markdown",
   "metadata": {},
   "source": [
    "# Dense neural network for classification"
   ]
  },
  {
   "cell_type": "markdown",
   "metadata": {},
   "source": [
    "Required imports"
   ]
  },
  {
   "cell_type": "code",
   "execution_count": 1,
   "metadata": {},
   "outputs": [],
   "source": [
    "import os\n",
    "os.environ[\"CUDA_DEVICE_ORDER\"] = \"PCI_BUS_ID\"   # see issue #152\n",
    "os.environ[\"CUDA_VISIBLE_DEVICES\"] = \"4\""
   ]
  },
  {
   "cell_type": "code",
   "execution_count": 2,
   "metadata": {},
   "outputs": [
    {
     "name": "stderr",
     "output_type": "stream",
     "text": [
      "Using TensorFlow backend.\n"
     ]
    }
   ],
   "source": [
    "import numpy as np\n",
    "import pandas as pd\n",
    "import matplotlib.pyplot as plt\n",
    "from sklearn.model_selection import train_test_split\n",
    "from sklearn.metrics import classification_report\n",
    "from keras.models import Sequential\n",
    "from keras.layers import Dense, Activation, BatchNormalization\n",
    "\n",
    "df = pd.read_csv('dense-network/train.csv')"
   ]
  },
  {
   "cell_type": "code",
   "execution_count": 10,
   "metadata": {},
   "outputs": [
    {
     "name": "stderr",
     "output_type": "stream",
     "text": [
      "/usr/local/lib/python3.6/dist-packages/ipykernel_launcher.py:3: SettingWithCopyWarning: \n",
      "A value is trying to be set on a copy of a slice from a DataFrame\n",
      "\n",
      "See the caveats in the documentation: https://pandas.pydata.org/pandas-docs/stable/user_guide/indexing.html#returning-a-view-versus-a-copy\n",
      "  This is separate from the ipykernel package so we can avoid doing imports until\n"
     ]
    }
   ],
   "source": [
    "for el in df['22'].unique():\n",
    "    df['22_' + str(el)] = 0\n",
    "    df['22_' + str(el)][df['22'] == el] = 1"
   ]
  },
  {
   "cell_type": "code",
   "execution_count": 17,
   "metadata": {},
   "outputs": [
    {
     "data": {
      "text/plain": [
       "Index(['0', '1', '2', '3', '4', '5', '6', '7', '8', '9', '10', '11', '12',\n",
       "       '13', '14', '15', '16', '17', '18', '19', '20', '21', '23', '24', '25',\n",
       "       '26', '27', '28', '29', 'label', '22_3', '22_1', '22_0', '22_2'],\n",
       "      dtype='object')"
      ]
     },
     "execution_count": 17,
     "metadata": {},
     "output_type": "execute_result"
    }
   ],
   "source": [
    "df.columns"
   ]
  },
  {
   "cell_type": "code",
   "execution_count": null,
   "metadata": {},
   "outputs": [],
   "source": []
  },
  {
   "cell_type": "code",
   "execution_count": 34,
   "metadata": {},
   "outputs": [
    {
     "name": "stderr",
     "output_type": "stream",
     "text": [
      "/usr/local/lib/python3.6/dist-packages/sklearn/linear_model/_logistic.py:940: ConvergenceWarning: lbfgs failed to converge (status=1):\n",
      "STOP: TOTAL NO. of ITERATIONS REACHED LIMIT.\n",
      "\n",
      "Increase the number of iterations (max_iter) or scale the data as shown in:\n",
      "    https://scikit-learn.org/stable/modules/preprocessing.html\n",
      "Please also refer to the documentation for alternative solver options:\n",
      "    https://scikit-learn.org/stable/modules/linear_model.html#logistic-regression\n",
      "  extra_warning_msg=_LOGISTIC_SOLVER_CONVERGENCE_MSG)\n"
     ]
    },
    {
     "name": "stdout",
     "output_type": "stream",
     "text": [
      "              precision    recall  f1-score   support\n",
      "\n",
      "           0    0.76750   0.84443   0.80413     34487\n",
      "           1    0.63145   0.51027   0.56443     18014\n",
      "\n",
      "    accuracy                        0.72978     52501\n",
      "   macro avg    0.69947   0.67735   0.68428     52501\n",
      "weighted avg    0.72082   0.72978   0.72188     52501\n",
      "\n"
     ]
    }
   ],
   "source": [
    "from sklearn.linear_model import LogisticRegression\n",
    "\n",
    "my_df = df#df[['22_3', '22_1', '22_0', '22_2', 'label']]\n",
    "\n",
    "my_X_train, my_X_test, my_y_train, my_y_test = train_test_split(my_df.drop('label', axis=1), df.label, train_size=0.7)\n",
    "\n",
    "clf = LogisticRegression().fit(my_X_train, my_y_train)\n",
    "\n",
    "pred = clf.predict(my_X_test) > 0.5\n",
    "print(classification_report(my_y_test, pred, digits=5))"
   ]
  },
  {
   "cell_type": "code",
   "execution_count": null,
   "metadata": {},
   "outputs": [],
   "source": []
  },
  {
   "cell_type": "code",
   "execution_count": null,
   "metadata": {},
   "outputs": [],
   "source": []
  },
  {
   "cell_type": "code",
   "execution_count": null,
   "metadata": {},
   "outputs": [],
   "source": []
  },
  {
   "cell_type": "code",
   "execution_count": 16,
   "metadata": {},
   "outputs": [],
   "source": [
    "df.drop('22', axis=1, inplace=True)"
   ]
  },
  {
   "cell_type": "code",
   "execution_count": 4,
   "metadata": {},
   "outputs": [
    {
     "data": {
      "text/plain": [
       "(175000, 31)"
      ]
     },
     "execution_count": 4,
     "metadata": {},
     "output_type": "execute_result"
    }
   ],
   "source": [
    "df.shape"
   ]
  },
  {
   "cell_type": "code",
   "execution_count": 19,
   "metadata": {},
   "outputs": [
    {
     "name": "stderr",
     "output_type": "stream",
     "text": [
      "/usr/local/lib/python3.6/dist-packages/ipykernel_launcher.py:4: SettingWithCopyWarning: \n",
      "A value is trying to be set on a copy of a slice from a DataFrame\n",
      "\n",
      "See the caveats in the documentation: https://pandas.pydata.org/pandas-docs/stable/user_guide/indexing.html#returning-a-view-versus-a-copy\n",
      "  after removing the cwd from sys.path.\n"
     ]
    }
   ],
   "source": [
    "for i in range(30):\n",
    "    if i == 22:\n",
    "        continue\n",
    "    df[str(i)][df[str(i)] == -999.00] = 0"
   ]
  },
  {
   "cell_type": "markdown",
   "metadata": {},
   "source": [
    "Split into train and test:"
   ]
  },
  {
   "cell_type": "code",
   "execution_count": 36,
   "metadata": {},
   "outputs": [
    {
     "data": {
      "text/html": [
       "<div>\n",
       "<style scoped>\n",
       "    .dataframe tbody tr th:only-of-type {\n",
       "        vertical-align: middle;\n",
       "    }\n",
       "\n",
       "    .dataframe tbody tr th {\n",
       "        vertical-align: top;\n",
       "    }\n",
       "\n",
       "    .dataframe thead th {\n",
       "        text-align: right;\n",
       "    }\n",
       "</style>\n",
       "<table border=\"1\" class=\"dataframe\">\n",
       "  <thead>\n",
       "    <tr style=\"text-align: right;\">\n",
       "      <th></th>\n",
       "      <th>0</th>\n",
       "      <th>1</th>\n",
       "      <th>2</th>\n",
       "      <th>3</th>\n",
       "      <th>4</th>\n",
       "      <th>5</th>\n",
       "      <th>6</th>\n",
       "      <th>7</th>\n",
       "      <th>8</th>\n",
       "      <th>9</th>\n",
       "      <th>...</th>\n",
       "      <th>25</th>\n",
       "      <th>26</th>\n",
       "      <th>27</th>\n",
       "      <th>28</th>\n",
       "      <th>29</th>\n",
       "      <th>label</th>\n",
       "      <th>22_3</th>\n",
       "      <th>22_1</th>\n",
       "      <th>22_0</th>\n",
       "      <th>22_2</th>\n",
       "    </tr>\n",
       "  </thead>\n",
       "  <tbody>\n",
       "    <tr>\n",
       "      <th>0</th>\n",
       "      <td>0.000</td>\n",
       "      <td>94.267</td>\n",
       "      <td>56.592</td>\n",
       "      <td>44.055</td>\n",
       "      <td>2.474</td>\n",
       "      <td>204.589</td>\n",
       "      <td>0.749</td>\n",
       "      <td>1.381</td>\n",
       "      <td>18.238</td>\n",
       "      <td>231.606</td>\n",
       "      <td>...</td>\n",
       "      <td>-0.572</td>\n",
       "      <td>43.346</td>\n",
       "      <td>2.747</td>\n",
       "      <td>2.699</td>\n",
       "      <td>142.992</td>\n",
       "      <td>0</td>\n",
       "      <td>1</td>\n",
       "      <td>0</td>\n",
       "      <td>0</td>\n",
       "      <td>0</td>\n",
       "    </tr>\n",
       "    <tr>\n",
       "      <th>1</th>\n",
       "      <td>175.895</td>\n",
       "      <td>8.281</td>\n",
       "      <td>96.004</td>\n",
       "      <td>26.597</td>\n",
       "      <td>0.000</td>\n",
       "      <td>0.000</td>\n",
       "      <td>0.000</td>\n",
       "      <td>2.957</td>\n",
       "      <td>4.658</td>\n",
       "      <td>131.113</td>\n",
       "      <td>...</td>\n",
       "      <td>2.186</td>\n",
       "      <td>0.000</td>\n",
       "      <td>0.000</td>\n",
       "      <td>0.000</td>\n",
       "      <td>30.306</td>\n",
       "      <td>1</td>\n",
       "      <td>0</td>\n",
       "      <td>1</td>\n",
       "      <td>0</td>\n",
       "      <td>0</td>\n",
       "    </tr>\n",
       "    <tr>\n",
       "      <th>2</th>\n",
       "      <td>108.990</td>\n",
       "      <td>11.094</td>\n",
       "      <td>67.990</td>\n",
       "      <td>41.397</td>\n",
       "      <td>0.000</td>\n",
       "      <td>0.000</td>\n",
       "      <td>0.000</td>\n",
       "      <td>3.013</td>\n",
       "      <td>2.026</td>\n",
       "      <td>111.415</td>\n",
       "      <td>...</td>\n",
       "      <td>1.502</td>\n",
       "      <td>0.000</td>\n",
       "      <td>0.000</td>\n",
       "      <td>0.000</td>\n",
       "      <td>43.309</td>\n",
       "      <td>1</td>\n",
       "      <td>0</td>\n",
       "      <td>1</td>\n",
       "      <td>0</td>\n",
       "      <td>0</td>\n",
       "    </tr>\n",
       "    <tr>\n",
       "      <th>3</th>\n",
       "      <td>131.516</td>\n",
       "      <td>46.504</td>\n",
       "      <td>89.693</td>\n",
       "      <td>8.039</td>\n",
       "      <td>0.000</td>\n",
       "      <td>0.000</td>\n",
       "      <td>0.000</td>\n",
       "      <td>3.153</td>\n",
       "      <td>8.039</td>\n",
       "      <td>87.773</td>\n",
       "      <td>...</td>\n",
       "      <td>0.000</td>\n",
       "      <td>0.000</td>\n",
       "      <td>0.000</td>\n",
       "      <td>0.000</td>\n",
       "      <td>0.000</td>\n",
       "      <td>1</td>\n",
       "      <td>0</td>\n",
       "      <td>0</td>\n",
       "      <td>1</td>\n",
       "      <td>0</td>\n",
       "    </tr>\n",
       "    <tr>\n",
       "      <th>4</th>\n",
       "      <td>0.000</td>\n",
       "      <td>71.995</td>\n",
       "      <td>73.582</td>\n",
       "      <td>1.615</td>\n",
       "      <td>0.000</td>\n",
       "      <td>0.000</td>\n",
       "      <td>0.000</td>\n",
       "      <td>2.231</td>\n",
       "      <td>1.615</td>\n",
       "      <td>77.546</td>\n",
       "      <td>...</td>\n",
       "      <td>0.000</td>\n",
       "      <td>0.000</td>\n",
       "      <td>0.000</td>\n",
       "      <td>0.000</td>\n",
       "      <td>0.000</td>\n",
       "      <td>0</td>\n",
       "      <td>0</td>\n",
       "      <td>0</td>\n",
       "      <td>1</td>\n",
       "      <td>0</td>\n",
       "    </tr>\n",
       "    <tr>\n",
       "      <th>...</th>\n",
       "      <td>...</td>\n",
       "      <td>...</td>\n",
       "      <td>...</td>\n",
       "      <td>...</td>\n",
       "      <td>...</td>\n",
       "      <td>...</td>\n",
       "      <td>...</td>\n",
       "      <td>...</td>\n",
       "      <td>...</td>\n",
       "      <td>...</td>\n",
       "      <td>...</td>\n",
       "      <td>...</td>\n",
       "      <td>...</td>\n",
       "      <td>...</td>\n",
       "      <td>...</td>\n",
       "      <td>...</td>\n",
       "      <td>...</td>\n",
       "      <td>...</td>\n",
       "      <td>...</td>\n",
       "      <td>...</td>\n",
       "      <td>...</td>\n",
       "    </tr>\n",
       "    <tr>\n",
       "      <th>174995</th>\n",
       "      <td>106.766</td>\n",
       "      <td>87.758</td>\n",
       "      <td>77.958</td>\n",
       "      <td>55.630</td>\n",
       "      <td>0.000</td>\n",
       "      <td>0.000</td>\n",
       "      <td>0.000</td>\n",
       "      <td>2.213</td>\n",
       "      <td>51.156</td>\n",
       "      <td>120.220</td>\n",
       "      <td>...</td>\n",
       "      <td>-0.931</td>\n",
       "      <td>0.000</td>\n",
       "      <td>0.000</td>\n",
       "      <td>0.000</td>\n",
       "      <td>31.931</td>\n",
       "      <td>0</td>\n",
       "      <td>0</td>\n",
       "      <td>1</td>\n",
       "      <td>0</td>\n",
       "      <td>0</td>\n",
       "    </tr>\n",
       "    <tr>\n",
       "      <th>174996</th>\n",
       "      <td>101.316</td>\n",
       "      <td>55.334</td>\n",
       "      <td>73.367</td>\n",
       "      <td>35.873</td>\n",
       "      <td>1.700</td>\n",
       "      <td>177.256</td>\n",
       "      <td>5.041</td>\n",
       "      <td>2.920</td>\n",
       "      <td>0.552</td>\n",
       "      <td>211.477</td>\n",
       "      <td>...</td>\n",
       "      <td>-0.008</td>\n",
       "      <td>48.705</td>\n",
       "      <td>1.551</td>\n",
       "      <td>-2.946</td>\n",
       "      <td>131.404</td>\n",
       "      <td>0</td>\n",
       "      <td>0</td>\n",
       "      <td>0</td>\n",
       "      <td>0</td>\n",
       "      <td>1</td>\n",
       "    </tr>\n",
       "    <tr>\n",
       "      <th>174997</th>\n",
       "      <td>106.724</td>\n",
       "      <td>9.824</td>\n",
       "      <td>67.347</td>\n",
       "      <td>40.528</td>\n",
       "      <td>0.000</td>\n",
       "      <td>0.000</td>\n",
       "      <td>0.000</td>\n",
       "      <td>2.519</td>\n",
       "      <td>27.190</td>\n",
       "      <td>105.498</td>\n",
       "      <td>...</td>\n",
       "      <td>1.247</td>\n",
       "      <td>0.000</td>\n",
       "      <td>0.000</td>\n",
       "      <td>0.000</td>\n",
       "      <td>35.725</td>\n",
       "      <td>1</td>\n",
       "      <td>0</td>\n",
       "      <td>1</td>\n",
       "      <td>0</td>\n",
       "      <td>0</td>\n",
       "    </tr>\n",
       "    <tr>\n",
       "      <th>174998</th>\n",
       "      <td>234.697</td>\n",
       "      <td>65.964</td>\n",
       "      <td>183.679</td>\n",
       "      <td>21.442</td>\n",
       "      <td>0.000</td>\n",
       "      <td>0.000</td>\n",
       "      <td>0.000</td>\n",
       "      <td>3.392</td>\n",
       "      <td>21.442</td>\n",
       "      <td>128.567</td>\n",
       "      <td>...</td>\n",
       "      <td>0.000</td>\n",
       "      <td>0.000</td>\n",
       "      <td>0.000</td>\n",
       "      <td>0.000</td>\n",
       "      <td>-0.000</td>\n",
       "      <td>0</td>\n",
       "      <td>0</td>\n",
       "      <td>0</td>\n",
       "      <td>1</td>\n",
       "      <td>0</td>\n",
       "    </tr>\n",
       "    <tr>\n",
       "      <th>174999</th>\n",
       "      <td>114.375</td>\n",
       "      <td>64.595</td>\n",
       "      <td>82.446</td>\n",
       "      <td>33.159</td>\n",
       "      <td>2.295</td>\n",
       "      <td>167.983</td>\n",
       "      <td>-1.077</td>\n",
       "      <td>3.072</td>\n",
       "      <td>1.522</td>\n",
       "      <td>176.770</td>\n",
       "      <td>...</td>\n",
       "      <td>-1.882</td>\n",
       "      <td>35.731</td>\n",
       "      <td>1.636</td>\n",
       "      <td>1.029</td>\n",
       "      <td>101.152</td>\n",
       "      <td>0</td>\n",
       "      <td>0</td>\n",
       "      <td>0</td>\n",
       "      <td>0</td>\n",
       "      <td>1</td>\n",
       "    </tr>\n",
       "  </tbody>\n",
       "</table>\n",
       "<p>175000 rows × 34 columns</p>\n",
       "</div>"
      ],
      "text/plain": [
       "              0       1        2       3      4        5      6      7  \\\n",
       "0         0.000  94.267   56.592  44.055  2.474  204.589  0.749  1.381   \n",
       "1       175.895   8.281   96.004  26.597  0.000    0.000  0.000  2.957   \n",
       "2       108.990  11.094   67.990  41.397  0.000    0.000  0.000  3.013   \n",
       "3       131.516  46.504   89.693   8.039  0.000    0.000  0.000  3.153   \n",
       "4         0.000  71.995   73.582   1.615  0.000    0.000  0.000  2.231   \n",
       "...         ...     ...      ...     ...    ...      ...    ...    ...   \n",
       "174995  106.766  87.758   77.958  55.630  0.000    0.000  0.000  2.213   \n",
       "174996  101.316  55.334   73.367  35.873  1.700  177.256  5.041  2.920   \n",
       "174997  106.724   9.824   67.347  40.528  0.000    0.000  0.000  2.519   \n",
       "174998  234.697  65.964  183.679  21.442  0.000    0.000  0.000  3.392   \n",
       "174999  114.375  64.595   82.446  33.159  2.295  167.983 -1.077  3.072   \n",
       "\n",
       "             8        9  ...     25      26     27     28       29  label  \\\n",
       "0       18.238  231.606  ... -0.572  43.346  2.747  2.699  142.992      0   \n",
       "1        4.658  131.113  ...  2.186   0.000  0.000  0.000   30.306      1   \n",
       "2        2.026  111.415  ...  1.502   0.000  0.000  0.000   43.309      1   \n",
       "3        8.039   87.773  ...  0.000   0.000  0.000  0.000    0.000      1   \n",
       "4        1.615   77.546  ...  0.000   0.000  0.000  0.000    0.000      0   \n",
       "...        ...      ...  ...    ...     ...    ...    ...      ...    ...   \n",
       "174995  51.156  120.220  ... -0.931   0.000  0.000  0.000   31.931      0   \n",
       "174996   0.552  211.477  ... -0.008  48.705  1.551 -2.946  131.404      0   \n",
       "174997  27.190  105.498  ...  1.247   0.000  0.000  0.000   35.725      1   \n",
       "174998  21.442  128.567  ...  0.000   0.000  0.000  0.000   -0.000      0   \n",
       "174999   1.522  176.770  ... -1.882  35.731  1.636  1.029  101.152      0   \n",
       "\n",
       "        22_3  22_1  22_0  22_2  \n",
       "0          1     0     0     0  \n",
       "1          0     1     0     0  \n",
       "2          0     1     0     0  \n",
       "3          0     0     1     0  \n",
       "4          0     0     1     0  \n",
       "...      ...   ...   ...   ...  \n",
       "174995     0     1     0     0  \n",
       "174996     0     0     0     1  \n",
       "174997     0     1     0     0  \n",
       "174998     0     0     1     0  \n",
       "174999     0     0     0     1  \n",
       "\n",
       "[175000 rows x 34 columns]"
      ]
     },
     "execution_count": 36,
     "metadata": {},
     "output_type": "execute_result"
    }
   ],
   "source": [
    "df"
   ]
  },
  {
   "cell_type": "code",
   "execution_count": 37,
   "metadata": {},
   "outputs": [],
   "source": [
    "X_train, X_test, y_train, y_test = train_test_split(df.drop('label', axis=1), df.label, train_size=0.7)"
   ]
  },
  {
   "cell_type": "markdown",
   "metadata": {},
   "source": [
    "Model architecture"
   ]
  },
  {
   "cell_type": "code",
   "execution_count": 38,
   "metadata": {},
   "outputs": [
    {
     "name": "stdout",
     "output_type": "stream",
     "text": [
      "Model: \"sequential_2\"\n",
      "_________________________________________________________________\n",
      "Layer (type)                 Output Shape              Param #   \n",
      "=================================================================\n",
      "dense_6 (Dense)              (None, 100)               3400      \n",
      "_________________________________________________________________\n",
      "batch_normalization_5 (Batch (None, 100)               400       \n",
      "_________________________________________________________________\n",
      "activation_5 (Activation)    (None, 100)               0         \n",
      "_________________________________________________________________\n",
      "dense_7 (Dense)              (None, 100)               10100     \n",
      "_________________________________________________________________\n",
      "batch_normalization_6 (Batch (None, 100)               400       \n",
      "_________________________________________________________________\n",
      "activation_6 (Activation)    (None, 100)               0         \n",
      "_________________________________________________________________\n",
      "dense_8 (Dense)              (None, 100)               10100     \n",
      "_________________________________________________________________\n",
      "batch_normalization_7 (Batch (None, 100)               400       \n",
      "_________________________________________________________________\n",
      "activation_7 (Activation)    (None, 100)               0         \n",
      "_________________________________________________________________\n",
      "dense_9 (Dense)              (None, 100)               10100     \n",
      "_________________________________________________________________\n",
      "batch_normalization_8 (Batch (None, 100)               400       \n",
      "_________________________________________________________________\n",
      "activation_8 (Activation)    (None, 100)               0         \n",
      "_________________________________________________________________\n",
      "dense_10 (Dense)             (None, 1)                 101       \n",
      "=================================================================\n",
      "Total params: 35,401\n",
      "Trainable params: 34,601\n",
      "Non-trainable params: 800\n",
      "_________________________________________________________________\n"
     ]
    }
   ],
   "source": [
    "model = Sequential([\n",
    "    Dense(100, input_shape=(X_train.shape[1],)),     \n",
    "    BatchNormalization(),\n",
    "    Activation('relu'),\n",
    "\n",
    "    Dense(100),\n",
    "    BatchNormalization(),\n",
    "    Activation('relu'),\n",
    "    \n",
    "    Dense(100),\n",
    "    BatchNormalization(),\n",
    "    Activation('relu'),\n",
    "    \n",
    "    Dense(100),\n",
    "    BatchNormalization(),\n",
    "    Activation('relu'),\n",
    "    \n",
    "    Dense(1, activation='sigmoid'),\n",
    "])\n",
    "\n",
    "model.summary()"
   ]
  },
  {
   "cell_type": "markdown",
   "metadata": {},
   "source": [
    "Set optimizer and loss"
   ]
  },
  {
   "cell_type": "code",
   "execution_count": 39,
   "metadata": {},
   "outputs": [],
   "source": [
    "model.compile(optimizer='adam',\n",
    "              loss='binary_crossentropy',\n",
    "              metrics=['accuracy'])"
   ]
  },
  {
   "cell_type": "markdown",
   "metadata": {},
   "source": [
    "Run model fit"
   ]
  },
  {
   "cell_type": "code",
   "execution_count": null,
   "metadata": {},
   "outputs": [],
   "source": []
  },
  {
   "cell_type": "code",
   "execution_count": 41,
   "metadata": {},
   "outputs": [
    {
     "name": "stdout",
     "output_type": "stream",
     "text": [
      "Train on 97999 samples, validate on 24500 samples\n",
      "Epoch 1/60\n",
      "97999/97999 [==============================] - 19s 195us/step - loss: 0.3887 - accuracy: 0.8233 - val_loss: 0.3845 - val_accuracy: 0.8255\n",
      "Epoch 2/60\n",
      "97999/97999 [==============================] - 18s 187us/step - loss: 0.3874 - accuracy: 0.8254 - val_loss: 0.3749 - val_accuracy: 0.8303\n",
      "Epoch 3/60\n",
      "97999/97999 [==============================] - 20s 202us/step - loss: 0.3841 - accuracy: 0.8264 - val_loss: 0.3784 - val_accuracy: 0.8280\n",
      "Epoch 4/60\n",
      "97999/97999 [==============================] - 18s 185us/step - loss: 0.3830 - accuracy: 0.8263 - val_loss: 0.3782 - val_accuracy: 0.8305\n",
      "Epoch 5/60\n",
      "97999/97999 [==============================] - 20s 209us/step - loss: 0.3805 - accuracy: 0.8282 - val_loss: 0.3738 - val_accuracy: 0.8308\n",
      "Epoch 6/60\n",
      "97999/97999 [==============================] - 19s 198us/step - loss: 0.3782 - accuracy: 0.8294 - val_loss: 0.3768 - val_accuracy: 0.8304\n",
      "Epoch 7/60\n",
      "97999/97999 [==============================] - 16s 166us/step - loss: 0.3777 - accuracy: 0.8291 - val_loss: 0.3784 - val_accuracy: 0.8273\n",
      "Epoch 8/60\n",
      "97999/97999 [==============================] - 16s 165us/step - loss: 0.3766 - accuracy: 0.8302 - val_loss: 0.3723 - val_accuracy: 0.8321\n",
      "Epoch 9/60\n",
      "97999/97999 [==============================] - 16s 166us/step - loss: 0.3761 - accuracy: 0.8305 - val_loss: 0.3718 - val_accuracy: 0.8308\n",
      "Epoch 10/60\n",
      "97999/97999 [==============================] - 16s 167us/step - loss: 0.3755 - accuracy: 0.8299 - val_loss: 0.3756 - val_accuracy: 0.8282\n",
      "Epoch 11/60\n",
      "97999/97999 [==============================] - 16s 164us/step - loss: 0.3726 - accuracy: 0.8323 - val_loss: 0.3735 - val_accuracy: 0.8320\n",
      "Epoch 12/60\n",
      "97999/97999 [==============================] - 16s 167us/step - loss: 0.3732 - accuracy: 0.8317 - val_loss: 0.3688 - val_accuracy: 0.8326\n",
      "Epoch 13/60\n",
      "97999/97999 [==============================] - 17s 170us/step - loss: 0.3716 - accuracy: 0.8324 - val_loss: 0.3690 - val_accuracy: 0.8315\n",
      "Epoch 14/60\n",
      "97999/97999 [==============================] - 17s 172us/step - loss: 0.3712 - accuracy: 0.8322 - val_loss: 0.3689 - val_accuracy: 0.8319\n",
      "Epoch 15/60\n",
      "97999/97999 [==============================] - 17s 169us/step - loss: 0.3715 - accuracy: 0.8322 - val_loss: 0.3693 - val_accuracy: 0.8333\n",
      "Epoch 16/60\n",
      "97999/97999 [==============================] - 18s 182us/step - loss: 0.3693 - accuracy: 0.8334 - val_loss: 0.3805 - val_accuracy: 0.8265\n",
      "Epoch 17/60\n",
      "97999/97999 [==============================] - 19s 190us/step - loss: 0.3681 - accuracy: 0.8343 - val_loss: 0.3760 - val_accuracy: 0.8289\n",
      "Epoch 18/60\n",
      "97999/97999 [==============================] - 19s 192us/step - loss: 0.3676 - accuracy: 0.8344 - val_loss: 0.3870 - val_accuracy: 0.8211\n",
      "Epoch 19/60\n",
      "97999/97999 [==============================] - 18s 186us/step - loss: 0.3666 - accuracy: 0.8359 - val_loss: 0.3725 - val_accuracy: 0.8300\n",
      "Epoch 20/60\n",
      "97999/97999 [==============================] - 20s 200us/step - loss: 0.3670 - accuracy: 0.8345 - val_loss: 0.3742 - val_accuracy: 0.8271\n",
      "Epoch 21/60\n",
      "97999/97999 [==============================] - 19s 196us/step - loss: 0.3651 - accuracy: 0.8349 - val_loss: 0.3697 - val_accuracy: 0.8317\n",
      "Epoch 22/60\n",
      "97999/97999 [==============================] - 18s 182us/step - loss: 0.3652 - accuracy: 0.8350 - val_loss: 0.3705 - val_accuracy: 0.8311\n",
      "Epoch 23/60\n",
      "97999/97999 [==============================] - 19s 195us/step - loss: 0.3636 - accuracy: 0.8363 - val_loss: 0.3689 - val_accuracy: 0.8331\n",
      "Epoch 24/60\n",
      "97999/97999 [==============================] - 19s 194us/step - loss: 0.3635 - accuracy: 0.8354 - val_loss: 0.3740 - val_accuracy: 0.8304\n",
      "Epoch 25/60\n",
      "97999/97999 [==============================] - 19s 194us/step - loss: 0.3632 - accuracy: 0.8374 - val_loss: 0.3728 - val_accuracy: 0.8299\n",
      "Epoch 26/60\n",
      "97999/97999 [==============================] - 19s 190us/step - loss: 0.3625 - accuracy: 0.8367 - val_loss: 0.3712 - val_accuracy: 0.8308\n",
      "Epoch 27/60\n",
      "97999/97999 [==============================] - 19s 194us/step - loss: 0.3620 - accuracy: 0.8369 - val_loss: 0.3682 - val_accuracy: 0.8324\n",
      "Epoch 28/60\n",
      "97999/97999 [==============================] - 19s 190us/step - loss: 0.3611 - accuracy: 0.8380 - val_loss: 0.3705 - val_accuracy: 0.8317\n",
      "Epoch 29/60\n",
      "97999/97999 [==============================] - 19s 193us/step - loss: 0.3605 - accuracy: 0.8380 - val_loss: 0.3709 - val_accuracy: 0.8319\n",
      "Epoch 30/60\n",
      "97999/97999 [==============================] - 19s 194us/step - loss: 0.3598 - accuracy: 0.8390 - val_loss: 0.3715 - val_accuracy: 0.8319\n",
      "Epoch 31/60\n",
      "97999/97999 [==============================] - 19s 192us/step - loss: 0.3595 - accuracy: 0.8378 - val_loss: 0.3674 - val_accuracy: 0.8337\n",
      "Epoch 32/60\n",
      "97999/97999 [==============================] - 19s 198us/step - loss: 0.3598 - accuracy: 0.8376 - val_loss: 0.3693 - val_accuracy: 0.8327\n",
      "Epoch 33/60\n",
      "97999/97999 [==============================] - 19s 193us/step - loss: 0.3588 - accuracy: 0.8391 - val_loss: 0.3662 - val_accuracy: 0.8332\n",
      "Epoch 34/60\n",
      "97999/97999 [==============================] - 19s 196us/step - loss: 0.3590 - accuracy: 0.8384 - val_loss: 0.3673 - val_accuracy: 0.8329\n",
      "Epoch 35/60\n",
      "97999/97999 [==============================] - 19s 191us/step - loss: 0.3580 - accuracy: 0.8404 - val_loss: 0.3702 - val_accuracy: 0.8331\n",
      "Epoch 36/60\n",
      "97999/97999 [==============================] - 19s 193us/step - loss: 0.3577 - accuracy: 0.8392 - val_loss: 0.3713 - val_accuracy: 0.8298\n",
      "Epoch 37/60\n",
      "97999/97999 [==============================] - 20s 202us/step - loss: 0.3559 - accuracy: 0.8403 - val_loss: 0.3686 - val_accuracy: 0.8311\n",
      "Epoch 38/60\n",
      "97999/97999 [==============================] - 19s 195us/step - loss: 0.3569 - accuracy: 0.8397 - val_loss: 0.3712 - val_accuracy: 0.8306\n",
      "Epoch 39/60\n",
      "97999/97999 [==============================] - 19s 194us/step - loss: 0.3564 - accuracy: 0.8400 - val_loss: 0.3825 - val_accuracy: 0.8248\n",
      "Epoch 40/60\n",
      "97999/97999 [==============================] - 19s 192us/step - loss: 0.3557 - accuracy: 0.8402 - val_loss: 0.3691 - val_accuracy: 0.8319\n",
      "Epoch 41/60\n",
      "97999/97999 [==============================] - 19s 190us/step - loss: 0.3549 - accuracy: 0.8406 - val_loss: 0.3745 - val_accuracy: 0.8270\n",
      "Epoch 42/60\n",
      "97999/97999 [==============================] - 19s 194us/step - loss: 0.3549 - accuracy: 0.8405 - val_loss: 0.3704 - val_accuracy: 0.8331\n",
      "Epoch 43/60\n",
      "97999/97999 [==============================] - 19s 194us/step - loss: 0.3530 - accuracy: 0.8411 - val_loss: 0.3696 - val_accuracy: 0.8294\n",
      "Epoch 44/60\n",
      "97999/97999 [==============================] - 19s 195us/step - loss: 0.3529 - accuracy: 0.8417 - val_loss: 0.3763 - val_accuracy: 0.8265\n",
      "Epoch 45/60\n",
      "97999/97999 [==============================] - 20s 200us/step - loss: 0.3537 - accuracy: 0.8409 - val_loss: 0.3760 - val_accuracy: 0.8284\n",
      "Epoch 46/60\n",
      "97999/97999 [==============================] - 19s 192us/step - loss: 0.3521 - accuracy: 0.8419 - val_loss: 0.3746 - val_accuracy: 0.8318\n",
      "Epoch 47/60\n",
      "97999/97999 [==============================] - 19s 195us/step - loss: 0.3535 - accuracy: 0.8414 - val_loss: 0.3695 - val_accuracy: 0.8314\n",
      "Epoch 48/60\n",
      "97999/97999 [==============================] - 18s 188us/step - loss: 0.3517 - accuracy: 0.8426 - val_loss: 0.3719 - val_accuracy: 0.8309\n",
      "Epoch 49/60\n",
      "97999/97999 [==============================] - 18s 185us/step - loss: 0.3515 - accuracy: 0.8421 - val_loss: 0.3689 - val_accuracy: 0.8323\n",
      "Epoch 50/60\n",
      "97999/97999 [==============================] - 19s 193us/step - loss: 0.3505 - accuracy: 0.8424 - val_loss: 0.3697 - val_accuracy: 0.8320\n",
      "Epoch 51/60\n",
      "97999/97999 [==============================] - 19s 196us/step - loss: 0.3505 - accuracy: 0.8420 - val_loss: 0.3716 - val_accuracy: 0.8304\n",
      "Epoch 52/60\n",
      "97999/97999 [==============================] - 20s 205us/step - loss: 0.3494 - accuracy: 0.8436 - val_loss: 0.3725 - val_accuracy: 0.8291\n",
      "Epoch 53/60\n",
      "97999/97999 [==============================] - 19s 192us/step - loss: 0.3489 - accuracy: 0.8433 - val_loss: 0.3709 - val_accuracy: 0.8312\n",
      "Epoch 54/60\n",
      "97999/97999 [==============================] - 19s 195us/step - loss: 0.3491 - accuracy: 0.8432 - val_loss: 0.3693 - val_accuracy: 0.8329\n",
      "Epoch 55/60\n",
      "97999/97999 [==============================] - 19s 196us/step - loss: 0.3490 - accuracy: 0.8447 - val_loss: 0.3726 - val_accuracy: 0.8320\n",
      "Epoch 56/60\n",
      "97999/97999 [==============================] - 19s 196us/step - loss: 0.3468 - accuracy: 0.8449 - val_loss: 0.3716 - val_accuracy: 0.8328\n",
      "Epoch 57/60\n",
      "97999/97999 [==============================] - 19s 193us/step - loss: 0.3474 - accuracy: 0.8437 - val_loss: 0.3715 - val_accuracy: 0.8323\n",
      "Epoch 58/60\n",
      "97999/97999 [==============================] - 19s 197us/step - loss: 0.3465 - accuracy: 0.8450 - val_loss: 0.3713 - val_accuracy: 0.8326\n",
      "Epoch 59/60\n",
      "97999/97999 [==============================] - 19s 193us/step - loss: 0.3450 - accuracy: 0.8461 - val_loss: 0.3724 - val_accuracy: 0.8333\n",
      "Epoch 60/60\n",
      "97999/97999 [==============================] - 19s 195us/step - loss: 0.3457 - accuracy: 0.8467 - val_loss: 0.3725 - val_accuracy: 0.8332\n"
     ]
    }
   ],
   "source": [
    "history = model.fit(X_train.values, y_train, epochs=60, batch_size=64, validation_split=0.2)"
   ]
  },
  {
   "cell_type": "markdown",
   "metadata": {},
   "source": [
    "Loss visualization"
   ]
  },
  {
   "cell_type": "code",
   "execution_count": 42,
   "metadata": {},
   "outputs": [
    {
     "data": {
      "image/png": "[encoded data removed]",
      "text/plain": [
       "<Figure size 432x288 with 1 Axes>"
      ]
     },
     "metadata": {
      "needs_background": "light"
     },
     "output_type": "display_data"
    }
   ],
   "source": [
    "plt.plot(history.history['loss'], label='train')\n",
    "plt.plot(history.history['val_loss'], label='test')\n",
    "plt.legend()\n",
    "plt.show()"
   ]
  },
  {
   "cell_type": "markdown",
   "metadata": {},
   "source": [
    "Metrics visualization"
   ]
  },
  {
   "cell_type": "code",
   "execution_count": 43,
   "metadata": {},
   "outputs": [
    {
     "data": {
      "image/png": "[encoded data removed]",
      "text/plain": [
       "<Figure size 432x288 with 1 Axes>"
      ]
     },
     "metadata": {
      "needs_background": "light"
     },
     "output_type": "display_data"
    }
   ],
   "source": [
    "plt.plot(history.history['accuracy'], label='train')\n",
    "plt.plot(history.history['val_accuracy'], label='test')\n",
    "plt.legend()\n",
    "plt.show()"
   ]
  },
  {
   "cell_type": "markdown",
   "metadata": {},
   "source": [
    "Classification report"
   ]
  },
  {
   "cell_type": "code",
   "execution_count": 44,
   "metadata": {},
   "outputs": [
    {
     "name": "stdout",
     "output_type": "stream",
     "text": [
      "              precision    recall  f1-score   support\n",
      "\n",
      "           0    0.86313   0.89330   0.87796     34443\n",
      "           1    0.78195   0.72982   0.75498     18058\n",
      "\n",
      "    accuracy                        0.83707     52501\n",
      "   macro avg    0.82254   0.81156   0.81647     52501\n",
      "weighted avg    0.83521   0.83707   0.83566     52501\n",
      "\n"
     ]
    }
   ],
   "source": [
    "pred = model.predict(X_test) > 0.5\n",
    "print(classification_report(y_test, pred, digits=5))"
   ]
  },
  {
   "cell_type": "markdown",
   "metadata": {},
   "source": [
    "Done!"
   ]
  },
  {
   "cell_type": "code",
   "execution_count": 49,
   "metadata": {},
   "outputs": [
    {
     "name": "stderr",
     "output_type": "stream",
     "text": [
      "/usr/local/lib/python3.6/dist-packages/ipykernel_launcher.py:5: SettingWithCopyWarning: \n",
      "A value is trying to be set on a copy of a slice from a DataFrame\n",
      "\n",
      "See the caveats in the documentation: https://pandas.pydata.org/pandas-docs/stable/user_guide/indexing.html#returning-a-view-versus-a-copy\n",
      "  \"\"\"\n",
      "/usr/local/lib/python3.6/dist-packages/ipykernel_launcher.py:11: SettingWithCopyWarning: \n",
      "A value is trying to be set on a copy of a slice from a DataFrame\n",
      "\n",
      "See the caveats in the documentation: https://pandas.pydata.org/pandas-docs/stable/user_guide/indexing.html#returning-a-view-versus-a-copy\n",
      "  # This is added back by InteractiveShellApp.init_path()\n"
     ]
    }
   ],
   "source": [
    "test_df = pd.read_csv('dense-network/test.csv')\n",
    "\n",
    "for el in test_df['22'].unique():\n",
    "    test_df['22_' + str(el)] = 0\n",
    "    test_df['22_' + str(el)][test_df['22'] == el] = 1\n",
    "\n",
    "test_df.drop('22', axis=1, inplace=True)\n",
    "for i in range(30):\n",
    "    if i == 22:\n",
    "        continue\n",
    "    test_df[str(i)][test_df[str(i)] == -999.00] = 0\n",
    "    \n",
    "pred = model.predict(test_df) > 0.5\n",
    "#print(classification_report(y_test, pred, digits=5))"
   ]
  },
  {
   "cell_type": "code",
   "execution_count": 52,
   "metadata": {},
   "outputs": [
    {
     "data": {
      "text/plain": [
       "(75000, 1)"
      ]
     },
     "execution_count": 52,
     "metadata": {},
     "output_type": "execute_result"
    }
   ],
   "source": [
    "pred.shape"
   ]
  },
  {
   "cell_type": "code",
   "execution_count": 58,
   "metadata": {},
   "outputs": [],
   "source": [
    "pd.DataFrame({'Id': list(range(test_df.shape[0])), 'Predicted': pred[:, 0].astype(np.int32)}).to_csv('pred.csv', index=False)"
   ]
  },
  {
   "cell_type": "code",
   "execution_count": 56,
   "metadata": {},
   "outputs": [],
   "source": [
    "pd.DataFrame.to_csv?"
   ]
  }
 ],
 "metadata": {
  "kernelspec": {
   "display_name": "Python 3",
   "language": "python",
   "name": "python3"
  },
  "language_info": {
   "codemirror_mode": {
    "name": "ipython",
    "version": 3
   },
   "file_extension": ".py",
   "mimetype": "text/x-python",
   "name": "python",
   "nbconvert_exporter": "python",
   "pygments_lexer": "ipython3",
   "version": "3.7.6"
  }
 },
 "nbformat": 4,
 "nbformat_minor": 4
}
