{
 "cells": [
  {
   "cell_type": "code",
   "execution_count": 1,
   "metadata": {},
   "outputs": [
    {
     "name": "stderr",
     "output_type": "stream",
     "text": [
      "Using TensorFlow backend.\n"
     ]
    }
   ],
   "source": [
    "import numpy as np\n",
    "import pandas as pd\n",
    "import matplotlib.pyplot as plt\n",
    "from ipywidgets import interact, widgets\n",
    "from sklearn.model_selection import train_test_split\n",
    "from sklearn.metrics import classification_report\n",
    "import keras\n",
    "from keras import backend as K\n",
    "from keras.models import Sequential\n",
    "from keras.layers import Dense, Activation, Conv2D, Flatten, MaxPool2D, GlobalMaxPool2D, Reshape, BatchNormalization, SeparableConv2D\n",
    "from keras.datasets import mnist\n",
    "from keras.utils import to_categorical\n",
    "import os"
   ]
  },
  {
   "cell_type": "code",
   "execution_count": 2,
   "metadata": {},
   "outputs": [],
   "source": [
    "dirs = os.listdir('/Users/mac/Downloads/digits-classification-with-cnn/train/train')"
   ]
  },
  {
   "cell_type": "code",
   "execution_count": 3,
   "metadata": {},
   "outputs": [],
   "source": [
    "fd = []\n",
    "for file in dirs:\n",
    "    fd.append(file)"
   ]
  },
  {
   "cell_type": "code",
   "execution_count": 4,
   "metadata": {},
   "outputs": [
    {
     "data": {
      "text/plain": [
       "'/Users/mac/Downloads/digits-classification-with-cnn/train/train/7_867.jpg'"
      ]
     },
     "execution_count": 4,
     "metadata": {},
     "output_type": "execute_result"
    }
   ],
   "source": [
    "d = '/Users/mac/Downloads/digits-classification-with-cnn/train/train/'\n",
    "s = d + fd[0]\n",
    "s"
   ]
  },
  {
   "cell_type": "code",
   "execution_count": 5,
   "metadata": {},
   "outputs": [],
   "source": [
    "from PIL import Image, ImageDraw\n",
    "image = np.array(Image.open(s))\n",
    "image = []\n",
    "for file in dirs:\n",
    "    s = d + file\n",
    "    image.append(s)"
   ]
  },
  {
   "cell_type": "code",
   "execution_count": 6,
   "metadata": {},
   "outputs": [
    {
     "data": {
      "text/plain": [
       "(1500, 28, 28, 3)"
      ]
     },
     "execution_count": 6,
     "metadata": {},
     "output_type": "execute_result"
    }
   ],
   "source": [
    "import cv2\n",
    "res = np.random.random((len(image), 28, 28, 3))\n",
    "for i in range(len(image)):\n",
    "    img = cv2.imread(image[i])\n",
    "    res[i] = cv2.resize(img, dsize=(28, 28), interpolation=cv2.INTER_CUBIC)\n",
    "res.shape"
   ]
  },
  {
   "cell_type": "code",
   "execution_count": 7,
   "metadata": {},
   "outputs": [
    {
     "data": {
      "text/plain": [
       "array([7, 7, 1, ..., 1, 5, 1], dtype=uint8)"
      ]
     },
     "execution_count": 7,
     "metadata": {},
     "output_type": "execute_result"
    }
   ],
   "source": [
    "label = np.empty(len(fd), dtype=np.uint8)\n",
    "for i in range(len(label)):\n",
    "    label[i] = int(fd[i][0])\n",
    "label"
   ]
  },
  {
   "cell_type": "code",
   "execution_count": 8,
   "metadata": {},
   "outputs": [],
   "source": [
    "X_train, X_test, y_train, y_test = train_test_split(res, label, train_size=0.999999)"
   ]
  },
  {
   "cell_type": "code",
   "execution_count": 9,
   "metadata": {},
   "outputs": [],
   "source": [
    "ohe_train = to_categorical(y_train, num_classes=10)"
   ]
  },
  {
   "cell_type": "code",
   "execution_count": 10,
   "metadata": {},
   "outputs": [
    {
     "name": "stdout",
     "output_type": "stream",
     "text": [
      "Model: \"sequential_1\"\n",
      "_________________________________________________________________\n",
      "Layer (type)                 Output Shape              Param #   \n",
      "=================================================================\n",
      "conv2d_1 (Conv2D)            (None, None, None, 64)    1792      \n",
      "_________________________________________________________________\n",
      "max_pooling2d_1 (MaxPooling2 (None, None, None, 64)    0         \n",
      "_________________________________________________________________\n",
      "batch_normalization_1 (Batch (None, None, None, 64)    256       \n",
      "_________________________________________________________________\n",
      "conv2d_2 (Conv2D)            (None, None, None, 64)    36928     \n",
      "_________________________________________________________________\n",
      "max_pooling2d_2 (MaxPooling2 (None, None, None, 64)    0         \n",
      "_________________________________________________________________\n",
      "batch_normalization_2 (Batch (None, None, None, 64)    256       \n",
      "_________________________________________________________________\n",
      "conv2d_3 (Conv2D)            (None, None, None, 64)    36928     \n",
      "_________________________________________________________________\n",
      "max_pooling2d_3 (MaxPooling2 (None, None, None, 64)    0         \n",
      "_________________________________________________________________\n",
      "batch_normalization_3 (Batch (None, None, None, 64)    256       \n",
      "_________________________________________________________________\n",
      "conv2d_4 (Conv2D)            (None, None, None, 64)    36928     \n",
      "_________________________________________________________________\n",
      "global_max_pooling2d_1 (Glob (None, 64)                0         \n",
      "_________________________________________________________________\n",
      "batch_normalization_4 (Batch (None, 64)                256       \n",
      "_________________________________________________________________\n",
      "dense_1 (Dense)              (None, 10)                650       \n",
      "=================================================================\n",
      "Total params: 114,250\n",
      "Trainable params: 113,738\n",
      "Non-trainable params: 512\n",
      "_________________________________________________________________\n"
     ]
    }
   ],
   "source": [
    "model = Sequential([\n",
    "    \n",
    "    Conv2D(64, (3, 3), padding='same', input_shape=(None, None, 3), activation='relu'),\n",
    "    MaxPool2D(),\n",
    "    BatchNormalization(),\n",
    "    \n",
    "    Conv2D(64, (3, 3), padding='same', activation='relu'),\n",
    "    MaxPool2D(),\n",
    "    BatchNormalization(),\n",
    "    \n",
    "    Conv2D(64, (3, 3), padding='same', activation='relu'),\n",
    "    MaxPool2D(),\n",
    "    BatchNormalization(),\n",
    "    \n",
    "    Conv2D(64, (3, 3), padding='same', activation='relu'),\n",
    "    GlobalMaxPool2D(),\n",
    "    BatchNormalization(),\n",
    "    \n",
    "    Dense(10, activation='softmax'),\n",
    "])\n",
    "\n",
    "model.summary()"
   ]
  },
  {
   "cell_type": "code",
   "execution_count": 11,
   "metadata": {},
   "outputs": [],
   "source": [
    "model.compile(optimizer='adam', loss='categorical_crossentropy', metrics = ['accuracy'])"
   ]
  },
  {
   "cell_type": "code",
   "execution_count": 12,
   "metadata": {},
   "outputs": [],
   "source": [
    "class LossHistory(keras.callbacks.Callback):\n",
    "    def on_train_begin(self, logs={}):\n",
    "        self.losses = []\n",
    "\n",
    "    def on_batch_end(self, batch, logs={}):\n",
    "        self.losses.append(logs.get('loss'))"
   ]
  },
  {
   "cell_type": "code",
   "execution_count": 13,
   "metadata": {},
   "outputs": [],
   "source": [
    "batch_history = LossHistory()"
   ]
  },
  {
   "cell_type": "code",
   "execution_count": 14,
   "metadata": {},
   "outputs": [
    {
     "name": "stdout",
     "output_type": "stream",
     "text": [
      "Epoch 1/175\n",
      "1499/1499 [==============================] - 11s 7ms/step - loss: 2.0892 - accuracy: 0.3162\n",
      "Epoch 2/175\n",
      "1499/1499 [==============================] - 5s 3ms/step - loss: 0.8526 - accuracy: 0.7785\n",
      "Epoch 3/175\n",
      "1499/1499 [==============================] - 5s 3ms/step - loss: 0.4779 - accuracy: 0.8846\n",
      "Epoch 4/175\n",
      "1499/1499 [==============================] - 5s 3ms/step - loss: 0.3198 - accuracy: 0.9400\n",
      "Epoch 5/175\n",
      "1499/1499 [==============================] - 5s 3ms/step - loss: 0.2279 - accuracy: 0.9626\n",
      "Epoch 6/175\n",
      "1499/1499 [==============================] - 5s 3ms/step - loss: 0.1773 - accuracy: 0.9713\n",
      "Epoch 7/175\n",
      "1499/1499 [==============================] - 5s 3ms/step - loss: 0.1413 - accuracy: 0.9800\n",
      "Epoch 8/175\n",
      "1499/1499 [==============================] - 5s 3ms/step - loss: 0.1120 - accuracy: 0.9853\n",
      "Epoch 9/175\n",
      "1499/1499 [==============================] - 5s 3ms/step - loss: 0.0929 - accuracy: 0.9880\n",
      "Epoch 10/175\n",
      "1499/1499 [==============================] - 5s 3ms/step - loss: 0.0764 - accuracy: 0.9893\n",
      "Epoch 11/175\n",
      "1499/1499 [==============================] - 5s 3ms/step - loss: 0.0641 - accuracy: 0.9913\n",
      "Epoch 12/175\n",
      "1499/1499 [==============================] - 5s 3ms/step - loss: 0.0537 - accuracy: 0.9953\n",
      "Epoch 13/175\n",
      "1499/1499 [==============================] - 5s 3ms/step - loss: 0.0463 - accuracy: 0.9960\n",
      "Epoch 14/175\n",
      "1499/1499 [==============================] - 5s 3ms/step - loss: 0.0399 - accuracy: 0.9967\n",
      "Epoch 15/175\n",
      "1499/1499 [==============================] - 5s 3ms/step - loss: 0.0342 - accuracy: 0.9973\n",
      "Epoch 16/175\n",
      "1499/1499 [==============================] - 5s 3ms/step - loss: 0.0296 - accuracy: 0.9973\n",
      "Epoch 17/175\n",
      "1499/1499 [==============================] - 5s 3ms/step - loss: 0.0264 - accuracy: 0.9980\n",
      "Epoch 18/175\n",
      "1499/1499 [==============================] - 5s 3ms/step - loss: 0.0235 - accuracy: 0.9987\n",
      "Epoch 19/175\n",
      "1499/1499 [==============================] - 5s 3ms/step - loss: 0.0210 - accuracy: 0.9987\n",
      "Epoch 20/175\n",
      "1499/1499 [==============================] - 5s 3ms/step - loss: 0.0195 - accuracy: 0.9987\n",
      "Epoch 21/175\n",
      "1499/1499 [==============================] - 5s 3ms/step - loss: 0.0175 - accuracy: 0.9987\n",
      "Epoch 22/175\n",
      "1499/1499 [==============================] - 5s 3ms/step - loss: 0.0163 - accuracy: 0.9993\n",
      "Epoch 23/175\n",
      "1499/1499 [==============================] - 5s 3ms/step - loss: 0.0150 - accuracy: 0.9993\n",
      "Epoch 24/175\n",
      "1499/1499 [==============================] - 5s 3ms/step - loss: 0.0142 - accuracy: 0.9987\n",
      "Epoch 25/175\n",
      "1499/1499 [==============================] - 5s 3ms/step - loss: 0.0134 - accuracy: 0.9993\n",
      "Epoch 26/175\n",
      "1499/1499 [==============================] - 5s 3ms/step - loss: 0.0124 - accuracy: 0.9993\n",
      "Epoch 27/175\n",
      "1499/1499 [==============================] - 5s 3ms/step - loss: 0.0118 - accuracy: 0.9993\n",
      "Epoch 28/175\n",
      "1499/1499 [==============================] - 5s 3ms/step - loss: 0.0113 - accuracy: 0.9993\n",
      "Epoch 29/175\n",
      "1499/1499 [==============================] - 5s 3ms/step - loss: 0.0110 - accuracy: 0.9987\n",
      "Epoch 30/175\n",
      "1499/1499 [==============================] - 5s 3ms/step - loss: 0.0102 - accuracy: 0.9987\n",
      "Epoch 31/175\n",
      "1499/1499 [==============================] - 5s 3ms/step - loss: 0.0096 - accuracy: 0.9993\n",
      "Epoch 32/175\n",
      "1499/1499 [==============================] - 5s 3ms/step - loss: 0.0093 - accuracy: 0.9987\n",
      "Epoch 33/175\n",
      "1499/1499 [==============================] - 5s 3ms/step - loss: 0.0086 - accuracy: 0.9993\n",
      "Epoch 34/175\n",
      "1499/1499 [==============================] - 5s 3ms/step - loss: 0.0083 - accuracy: 0.9993\n",
      "Epoch 35/175\n",
      "1499/1499 [==============================] - 5s 3ms/step - loss: 0.0081 - accuracy: 0.9993\n",
      "Epoch 36/175\n",
      "1499/1499 [==============================] - 5s 3ms/step - loss: 0.0079 - accuracy: 0.9993\n",
      "Epoch 37/175\n",
      "1499/1499 [==============================] - 5s 3ms/step - loss: 0.0079 - accuracy: 0.9987\n",
      "Epoch 38/175\n",
      "1499/1499 [==============================] - 5s 3ms/step - loss: 0.0075 - accuracy: 0.9987\n",
      "Epoch 39/175\n",
      "1499/1499 [==============================] - 5s 3ms/step - loss: 0.0071 - accuracy: 0.9993\n",
      "Epoch 40/175\n",
      "1499/1499 [==============================] - 5s 3ms/step - loss: 0.0067 - accuracy: 0.9993\n",
      "Epoch 41/175\n",
      "1499/1499 [==============================] - 5s 3ms/step - loss: 0.0066 - accuracy: 0.9993\n",
      "Epoch 42/175\n",
      "1499/1499 [==============================] - 5s 3ms/step - loss: 0.0065 - accuracy: 0.9987\n",
      "Epoch 43/175\n",
      "1499/1499 [==============================] - 5s 3ms/step - loss: 0.0063 - accuracy: 0.9993\n",
      "Epoch 44/175\n",
      "1499/1499 [==============================] - 5s 3ms/step - loss: 0.0063 - accuracy: 0.9993\n",
      "Epoch 45/175\n",
      "1499/1499 [==============================] - 5s 3ms/step - loss: 0.0059 - accuracy: 0.9993\n",
      "Epoch 46/175\n",
      "1499/1499 [==============================] - 5s 3ms/step - loss: 0.0063 - accuracy: 0.9987\n",
      "Epoch 47/175\n",
      "1499/1499 [==============================] - 5s 3ms/step - loss: 0.0058 - accuracy: 0.9993\n",
      "Epoch 48/175\n",
      "1499/1499 [==============================] - 5s 3ms/step - loss: 0.0056 - accuracy: 0.9993\n",
      "Epoch 49/175\n",
      "1499/1499 [==============================] - 5s 3ms/step - loss: 0.0055 - accuracy: 0.9993\n",
      "Epoch 50/175\n",
      "1499/1499 [==============================] - 5s 3ms/step - loss: 0.0053 - accuracy: 0.9993\n",
      "Epoch 51/175\n",
      "1499/1499 [==============================] - 5s 3ms/step - loss: 0.0052 - accuracy: 0.9993\n",
      "Epoch 52/175\n",
      "1499/1499 [==============================] - 5s 3ms/step - loss: 0.0050 - accuracy: 0.9993\n",
      "Epoch 53/175\n",
      "1499/1499 [==============================] - 5s 3ms/step - loss: 0.0051 - accuracy: 0.9987\n",
      "Epoch 54/175\n",
      "1499/1499 [==============================] - 5s 3ms/step - loss: 0.0049 - accuracy: 0.9993\n",
      "Epoch 55/175\n",
      "1499/1499 [==============================] - 5s 3ms/step - loss: 0.0047 - accuracy: 0.9993\n",
      "Epoch 56/175\n",
      "1499/1499 [==============================] - 5s 3ms/step - loss: 0.0049 - accuracy: 0.9993\n",
      "Epoch 57/175\n",
      "1499/1499 [==============================] - 5s 3ms/step - loss: 0.0045 - accuracy: 0.9993\n",
      "Epoch 58/175\n",
      "1499/1499 [==============================] - 5s 4ms/step - loss: 0.0046 - accuracy: 0.9993\n",
      "Epoch 59/175\n",
      "1499/1499 [==============================] - 6s 4ms/step - loss: 0.0047 - accuracy: 0.9993\n",
      "Epoch 60/175\n",
      "1499/1499 [==============================] - 5s 3ms/step - loss: 0.0044 - accuracy: 0.9993\n",
      "Epoch 61/175\n",
      "1499/1499 [==============================] - 5s 3ms/step - loss: 0.0044 - accuracy: 0.9993\n",
      "Epoch 62/175\n",
      "1499/1499 [==============================] - 5s 3ms/step - loss: 0.0041 - accuracy: 0.9993\n",
      "Epoch 63/175\n",
      "1499/1499 [==============================] - 5s 3ms/step - loss: 0.0040 - accuracy: 0.9993\n",
      "Epoch 64/175\n",
      "1499/1499 [==============================] - 5s 3ms/step - loss: 0.0043 - accuracy: 0.9993\n",
      "Epoch 65/175\n",
      "1499/1499 [==============================] - 5s 3ms/step - loss: 0.0040 - accuracy: 0.9993\n",
      "Epoch 66/175\n",
      "1499/1499 [==============================] - 5s 3ms/step - loss: 0.0043 - accuracy: 0.9993\n",
      "Epoch 67/175\n",
      "1499/1499 [==============================] - 5s 3ms/step - loss: 0.0039 - accuracy: 0.9993\n",
      "Epoch 68/175\n",
      "1499/1499 [==============================] - 5s 4ms/step - loss: 0.0038 - accuracy: 0.9993\n",
      "Epoch 69/175\n",
      "1499/1499 [==============================] - 5s 4ms/step - loss: 0.0040 - accuracy: 0.9993\n",
      "Epoch 70/175\n",
      "1499/1499 [==============================] - 5s 3ms/step - loss: 0.0040 - accuracy: 0.9987\n",
      "Epoch 71/175\n",
      "1499/1499 [==============================] - 5s 3ms/step - loss: 0.0035 - accuracy: 1.0000\n",
      "Epoch 72/175\n",
      "1499/1499 [==============================] - 5s 3ms/step - loss: 0.0037 - accuracy: 0.9987\n",
      "Epoch 73/175\n",
      "1499/1499 [==============================] - 5s 3ms/step - loss: 0.0036 - accuracy: 0.9993\n",
      "Epoch 74/175\n",
      "1499/1499 [==============================] - 5s 3ms/step - loss: 0.0035 - accuracy: 0.9993\n",
      "Epoch 75/175\n",
      "1499/1499 [==============================] - 5s 3ms/step - loss: 0.0035 - accuracy: 0.9993\n",
      "Epoch 76/175\n",
      "1499/1499 [==============================] - 5s 3ms/step - loss: 0.0033 - accuracy: 0.9993\n",
      "Epoch 77/175\n",
      "1499/1499 [==============================] - 5s 3ms/step - loss: 0.0033 - accuracy: 0.9993\n",
      "Epoch 78/175\n",
      "1499/1499 [==============================] - 5s 3ms/step - loss: 0.0034 - accuracy: 0.9987\n",
      "Epoch 79/175\n"
     ]
    },
    {
     "name": "stdout",
     "output_type": "stream",
     "text": [
      "1499/1499 [==============================] - 5s 3ms/step - loss: 0.0034 - accuracy: 0.9993\n",
      "Epoch 80/175\n",
      "1499/1499 [==============================] - 5s 3ms/step - loss: 0.0034 - accuracy: 0.9987\n",
      "Epoch 81/175\n",
      "1499/1499 [==============================] - 5s 3ms/step - loss: 0.0031 - accuracy: 0.9993\n",
      "Epoch 82/175\n",
      "1499/1499 [==============================] - 5s 3ms/step - loss: 0.0036 - accuracy: 0.9987\n",
      "Epoch 83/175\n",
      "1499/1499 [==============================] - 5s 3ms/step - loss: 0.0035 - accuracy: 0.9987\n",
      "Epoch 84/175\n",
      "1499/1499 [==============================] - 5s 3ms/step - loss: 0.0031 - accuracy: 0.9993\n",
      "Epoch 85/175\n",
      "1499/1499 [==============================] - 5s 3ms/step - loss: 0.0030 - accuracy: 0.9993\n",
      "Epoch 86/175\n",
      "1499/1499 [==============================] - 5s 3ms/step - loss: 0.0034 - accuracy: 0.9993\n",
      "Epoch 87/175\n",
      "1499/1499 [==============================] - 5s 3ms/step - loss: 0.0036 - accuracy: 0.9987\n",
      "Epoch 88/175\n",
      "1499/1499 [==============================] - 5s 3ms/step - loss: 0.0042 - accuracy: 0.9993\n",
      "Epoch 89/175\n",
      "1499/1499 [==============================] - 5s 3ms/step - loss: 0.0037 - accuracy: 0.9987\n",
      "Epoch 90/175\n",
      "1499/1499 [==============================] - 5s 3ms/step - loss: 0.0031 - accuracy: 0.9993\n",
      "Epoch 91/175\n",
      "1499/1499 [==============================] - 5s 3ms/step - loss: 0.0030 - accuracy: 0.9993\n",
      "Epoch 92/175\n",
      "1499/1499 [==============================] - 5s 3ms/step - loss: 0.0030 - accuracy: 0.9993\n",
      "Epoch 93/175\n",
      "1499/1499 [==============================] - 5s 3ms/step - loss: 0.0031 - accuracy: 0.9993\n",
      "Epoch 94/175\n",
      "1499/1499 [==============================] - 5s 3ms/step - loss: 0.0033 - accuracy: 0.9993\n",
      "Epoch 95/175\n",
      "1499/1499 [==============================] - 5s 3ms/step - loss: 0.0027 - accuracy: 0.9993\n",
      "Epoch 96/175\n",
      "1499/1499 [==============================] - 5s 3ms/step - loss: 0.0042 - accuracy: 0.9993\n",
      "Epoch 97/175\n",
      "1499/1499 [==============================] - 5s 3ms/step - loss: 0.0037 - accuracy: 0.9993\n",
      "Epoch 98/175\n",
      "1499/1499 [==============================] - 5s 3ms/step - loss: 0.0047 - accuracy: 0.9993\n",
      "Epoch 99/175\n",
      "1499/1499 [==============================] - 5s 3ms/step - loss: 0.0043 - accuracy: 0.9993\n",
      "Epoch 100/175\n",
      "1499/1499 [==============================] - 5s 3ms/step - loss: 0.0026 - accuracy: 0.9993\n",
      "Epoch 101/175\n",
      "1499/1499 [==============================] - 5s 3ms/step - loss: 0.0032 - accuracy: 0.9993\n",
      "Epoch 102/175\n",
      "1499/1499 [==============================] - 5s 3ms/step - loss: 0.0029 - accuracy: 0.9993\n",
      "Epoch 103/175\n",
      "1499/1499 [==============================] - 5s 3ms/step - loss: 0.0026 - accuracy: 0.9993\n",
      "Epoch 104/175\n",
      "1499/1499 [==============================] - 5s 3ms/step - loss: 0.0027 - accuracy: 0.9993\n",
      "Epoch 105/175\n",
      "1499/1499 [==============================] - 5s 3ms/step - loss: 0.0026 - accuracy: 0.9993\n",
      "Epoch 106/175\n",
      "1499/1499 [==============================] - 5s 3ms/step - loss: 0.0029 - accuracy: 0.9993\n",
      "Epoch 107/175\n",
      "1499/1499 [==============================] - 5s 3ms/step - loss: 0.0027 - accuracy: 0.9987\n",
      "Epoch 108/175\n",
      "1499/1499 [==============================] - 5s 3ms/step - loss: 0.0025 - accuracy: 0.9993\n",
      "Epoch 109/175\n",
      "1499/1499 [==============================] - 5s 3ms/step - loss: 0.0031 - accuracy: 0.9987\n",
      "Epoch 110/175\n",
      "1499/1499 [==============================] - 5s 3ms/step - loss: 0.0024 - accuracy: 0.9993\n",
      "Epoch 111/175\n",
      "1499/1499 [==============================] - 5s 3ms/step - loss: 0.0026 - accuracy: 0.9993\n",
      "Epoch 112/175\n",
      "1499/1499 [==============================] - 5s 3ms/step - loss: 0.0025 - accuracy: 0.9993\n",
      "Epoch 113/175\n",
      "1499/1499 [==============================] - 5s 3ms/step - loss: 0.0028 - accuracy: 0.9987\n",
      "Epoch 114/175\n",
      "1499/1499 [==============================] - 5s 3ms/step - loss: 0.0028 - accuracy: 0.9993\n",
      "Epoch 115/175\n",
      "1499/1499 [==============================] - 5s 3ms/step - loss: 0.0024 - accuracy: 0.9993\n",
      "Epoch 116/175\n",
      "1499/1499 [==============================] - 5s 3ms/step - loss: 0.0029 - accuracy: 0.9987\n",
      "Epoch 117/175\n",
      "1499/1499 [==============================] - 5s 3ms/step - loss: 0.0024 - accuracy: 0.9993\n",
      "Epoch 118/175\n",
      "1499/1499 [==============================] - 5s 3ms/step - loss: 0.0028 - accuracy: 0.9993\n",
      "Epoch 119/175\n",
      "1499/1499 [==============================] - 5s 3ms/step - loss: 0.0026 - accuracy: 0.9987\n",
      "Epoch 120/175\n",
      "1499/1499 [==============================] - 5s 3ms/step - loss: 0.0024 - accuracy: 0.9987\n",
      "Epoch 121/175\n",
      "1499/1499 [==============================] - 5s 3ms/step - loss: 0.0024 - accuracy: 0.9987\n",
      "Epoch 122/175\n",
      "1499/1499 [==============================] - 5s 3ms/step - loss: 0.0026 - accuracy: 0.9987\n",
      "Epoch 123/175\n",
      "1499/1499 [==============================] - 5s 3ms/step - loss: 0.0021 - accuracy: 0.9993\n",
      "Epoch 124/175\n",
      "1499/1499 [==============================] - 5s 3ms/step - loss: 0.0027 - accuracy: 0.9993\n",
      "Epoch 125/175\n",
      "1499/1499 [==============================] - 5s 3ms/step - loss: 0.0021 - accuracy: 0.9993\n",
      "Epoch 126/175\n",
      "1499/1499 [==============================] - 5s 3ms/step - loss: 0.0022 - accuracy: 0.9993\n",
      "Epoch 127/175\n",
      "1499/1499 [==============================] - 5s 3ms/step - loss: 0.0021 - accuracy: 0.9993\n",
      "Epoch 128/175\n",
      "1499/1499 [==============================] - 5s 3ms/step - loss: 0.0021 - accuracy: 0.9993\n",
      "Epoch 129/175\n",
      "1499/1499 [==============================] - 5s 3ms/step - loss: 0.0024 - accuracy: 0.9993\n",
      "Epoch 130/175\n",
      "1499/1499 [==============================] - 5s 3ms/step - loss: 0.0033 - accuracy: 0.9987\n",
      "Epoch 131/175\n",
      "1499/1499 [==============================] - 5s 3ms/step - loss: 0.0024 - accuracy: 0.9993\n",
      "Epoch 132/175\n",
      "1499/1499 [==============================] - 5s 3ms/step - loss: 0.0028 - accuracy: 0.9987\n",
      "Epoch 133/175\n",
      "1499/1499 [==============================] - 5s 3ms/step - loss: 0.0036 - accuracy: 0.9993\n",
      "Epoch 134/175\n",
      "1499/1499 [==============================] - 5s 3ms/step - loss: 0.0025 - accuracy: 0.9993\n",
      "Epoch 135/175\n",
      "1499/1499 [==============================] - 5s 3ms/step - loss: 0.0029 - accuracy: 0.9993\n",
      "Epoch 136/175\n",
      "1499/1499 [==============================] - 5s 3ms/step - loss: 0.0030 - accuracy: 0.9993\n",
      "Epoch 137/175\n",
      "1499/1499 [==============================] - 5s 3ms/step - loss: 0.0020 - accuracy: 0.9993\n",
      "Epoch 138/175\n",
      "1499/1499 [==============================] - 5s 3ms/step - loss: 0.0031 - accuracy: 0.9993\n",
      "Epoch 139/175\n",
      "1499/1499 [==============================] - 5s 3ms/step - loss: 0.0025 - accuracy: 0.9993\n",
      "Epoch 140/175\n",
      "1499/1499 [==============================] - 5s 3ms/step - loss: 0.0021 - accuracy: 0.9993\n",
      "Epoch 141/175\n",
      "1499/1499 [==============================] - 5s 3ms/step - loss: 0.0031 - accuracy: 0.9993\n",
      "Epoch 142/175\n",
      "1499/1499 [==============================] - 5s 3ms/step - loss: 0.0023 - accuracy: 0.9993\n",
      "Epoch 143/175\n",
      "1499/1499 [==============================] - 5s 3ms/step - loss: 0.0030 - accuracy: 0.9993\n",
      "Epoch 144/175\n",
      "1499/1499 [==============================] - 5s 3ms/step - loss: 0.0030 - accuracy: 0.9993\n",
      "Epoch 145/175\n",
      "1499/1499 [==============================] - 5s 3ms/step - loss: 0.0020 - accuracy: 0.9993\n",
      "Epoch 146/175\n",
      "1499/1499 [==============================] - 5s 3ms/step - loss: 0.0029 - accuracy: 0.9993\n",
      "Epoch 147/175\n",
      "1499/1499 [==============================] - 5s 3ms/step - loss: 0.0023 - accuracy: 0.9993\n",
      "Epoch 148/175\n",
      "1499/1499 [==============================] - 5s 3ms/step - loss: 0.0020 - accuracy: 0.9993\n",
      "Epoch 149/175\n",
      "1499/1499 [==============================] - 5s 3ms/step - loss: 0.0024 - accuracy: 0.9987\n",
      "Epoch 150/175\n",
      "1499/1499 [==============================] - 5s 3ms/step - loss: 0.0021 - accuracy: 0.9993\n",
      "Epoch 151/175\n",
      "1499/1499 [==============================] - 5s 3ms/step - loss: 0.0019 - accuracy: 0.9993\n",
      "Epoch 152/175\n",
      "1499/1499 [==============================] - 5s 3ms/step - loss: 0.0025 - accuracy: 0.9987\n",
      "Epoch 153/175\n",
      "1499/1499 [==============================] - 5s 3ms/step - loss: 0.0024 - accuracy: 0.9993\n",
      "Epoch 154/175\n",
      "1499/1499 [==============================] - 5s 3ms/step - loss: 0.0026 - accuracy: 0.9987\n",
      "Epoch 155/175\n",
      "1499/1499 [==============================] - 5s 3ms/step - loss: 0.0026 - accuracy: 0.9993\n",
      "Epoch 156/175\n",
      "1499/1499 [==============================] - 5s 3ms/step - loss: 0.0019 - accuracy: 0.9993\n",
      "Epoch 157/175\n"
     ]
    },
    {
     "name": "stdout",
     "output_type": "stream",
     "text": [
      "1499/1499 [==============================] - 5s 3ms/step - loss: 0.0031 - accuracy: 0.9993\n",
      "Epoch 158/175\n",
      "1499/1499 [==============================] - 5s 3ms/step - loss: 0.0034 - accuracy: 0.9987\n",
      "Epoch 159/175\n",
      "1499/1499 [==============================] - 5s 3ms/step - loss: 0.0023 - accuracy: 0.9993\n",
      "Epoch 160/175\n",
      "1499/1499 [==============================] - 5s 3ms/step - loss: 0.0018 - accuracy: 0.9993\n",
      "Epoch 161/175\n",
      "1499/1499 [==============================] - 5s 3ms/step - loss: 0.0018 - accuracy: 0.9993\n",
      "Epoch 162/175\n",
      "1499/1499 [==============================] - 5s 3ms/step - loss: 0.0019 - accuracy: 0.9993\n",
      "Epoch 163/175\n",
      "1499/1499 [==============================] - 5s 3ms/step - loss: 0.0018 - accuracy: 0.9993\n",
      "Epoch 164/175\n",
      "1499/1499 [==============================] - 5s 3ms/step - loss: 0.0022 - accuracy: 0.9993\n",
      "Epoch 165/175\n",
      "1499/1499 [==============================] - 5s 3ms/step - loss: 0.0028 - accuracy: 0.9987\n",
      "Epoch 166/175\n",
      "1499/1499 [==============================] - 5s 3ms/step - loss: 0.0021 - accuracy: 0.9993\n",
      "Epoch 167/175\n",
      "1499/1499 [==============================] - 5s 3ms/step - loss: 0.0017 - accuracy: 0.9993\n",
      "Epoch 168/175\n",
      "1499/1499 [==============================] - 5s 3ms/step - loss: 0.0025 - accuracy: 0.9993\n",
      "Epoch 169/175\n",
      "1499/1499 [==============================] - 5s 3ms/step - loss: 0.0018 - accuracy: 0.9993\n",
      "Epoch 170/175\n",
      "1499/1499 [==============================] - 5s 3ms/step - loss: 0.0024 - accuracy: 0.9993\n",
      "Epoch 171/175\n",
      "1499/1499 [==============================] - 5s 3ms/step - loss: 0.0021 - accuracy: 0.9993\n",
      "Epoch 172/175\n",
      "1499/1499 [==============================] - 5s 3ms/step - loss: 0.0020 - accuracy: 0.9993\n",
      "Epoch 173/175\n",
      "1499/1499 [==============================] - 5s 3ms/step - loss: 0.0021 - accuracy: 0.9987\n",
      "Epoch 174/175\n",
      "1499/1499 [==============================] - 5s 3ms/step - loss: 0.0018 - accuracy: 0.9993\n",
      "Epoch 175/175\n",
      "1499/1499 [==============================] - 5s 3ms/step - loss: 0.0017 - accuracy: 0.9993\n"
     ]
    }
   ],
   "source": [
    "history = model.fit(X_train, ohe_train, epochs=175, batch_size=512, callbacks=[batch_history])"
   ]
  },
  {
   "cell_type": "code",
   "execution_count": 17,
   "metadata": {},
   "outputs": [
    {
     "data": {
      "image/png": "[encoded data removed]",
      "text/plain": [
       "<Figure size 432x288 with 1 Axes>"
      ]
     },
     "metadata": {
      "needs_background": "light"
     },
     "output_type": "display_data"
    }
   ],
   "source": [
    "plt.plot(batch_history.losses[10:])\n",
    "plt.show()"
   ]
  },
  {
   "cell_type": "code",
   "execution_count": 18,
   "metadata": {},
   "outputs": [],
   "source": [
    "dirs_test = os.listdir('/Users/mac/Downloads/digits-classification-with-cnn/test/test')"
   ]
  },
  {
   "cell_type": "code",
   "execution_count": 19,
   "metadata": {},
   "outputs": [],
   "source": [
    "qw = []\n",
    "for file in dirs_test:\n",
    "    qw.append(file)\n",
    "q = '/Users/mac/Downloads/digits-classification-with-cnn/test/test/'\n",
    "r = q + qw[0]\n",
    "rt = np.empty(len(qw))\n",
    "for i in range(len(qw)):\n",
    "    k = qw[i][0]\n",
    "    j = 1\n",
    "    while qw[i][j] != '.':\n",
    "        k = k + qw[i][j]\n",
    "        j = j + 1\n",
    "    rt[i] = int(k)\n",
    "    #print(\"k=\", k)\n",
    "    #print(\"rt[i] = \",rt[i])\n",
    "tr = [int(i) for i in rt]\n",
    "image_test = np.array(Image.open(r))\n",
    "image_test = []\n",
    "for file in dirs_test:\n",
    "    r = q + file\n",
    "    image_test.append(r)"
   ]
  },
  {
   "cell_type": "code",
   "execution_count": 20,
   "metadata": {},
   "outputs": [
    {
     "data": {
      "text/plain": [
       "(28, 28, 3)"
      ]
     },
     "execution_count": 20,
     "metadata": {},
     "output_type": "execute_result"
    }
   ],
   "source": [
    "np.array(Image.open(image_test[7])).shape"
   ]
  },
  {
   "cell_type": "code",
   "execution_count": 21,
   "metadata": {},
   "outputs": [],
   "source": [
    "test = np.random.random((len(image_test), 28, 28, 3))\n",
    "for i in range(len(image_test)):\n",
    "    img = cv2.imread(image_test[i])\n",
    "    test[i] = cv2.resize(img, dsize=(28, 28), interpolation=cv2.INTER_CUBIC)"
   ]
  },
  {
   "cell_type": "code",
   "execution_count": 22,
   "metadata": {},
   "outputs": [],
   "source": [
    "predict = model.predict(test)"
   ]
  },
  {
   "cell_type": "code",
   "execution_count": 23,
   "metadata": {},
   "outputs": [],
   "source": [
    "num = np.empty(predict.shape[0])\n",
    "for i in range(predict.shape[0]):\n",
    "    k = predict[i].max()\n",
    "    for j in range(10):\n",
    "        if k == predict[i][j]:\n",
    "            num[i] = int(j)\n",
    "result = [int(i) for i in num]"
   ]
  },
  {
   "cell_type": "code",
   "execution_count": 25,
   "metadata": {},
   "outputs": [],
   "source": [
    "pd.DataFrame({'Predicted': result, 'Id': tr}).to_csv('/Users/mac/Downloads/digits-classification-with-cnn/solution.csv', index = False)"
   ]
  },
  {
   "cell_type": "code",
   "execution_count": null,
   "metadata": {},
   "outputs": [],
   "source": []
  }
 ],
 "metadata": {
  "kernelspec": {
   "display_name": "Python 3.6 (tensorflow)",
   "language": "python",
   "name": "tensorflow"
  },
  "language_info": {
   "codemirror_mode": {
    "name": "ipython",
    "version": 3
   },
   "file_extension": ".py",
   "mimetype": "text/x-python",
   "name": "python",
   "nbconvert_exporter": "python",
   "pygments_lexer": "ipython3",
   "version": "3.7.2"
  }
 },
 "nbformat": 4,
 "nbformat_minor": 2
}
