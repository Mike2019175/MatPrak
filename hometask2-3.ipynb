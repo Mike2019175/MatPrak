{
 "cells": [
  {
   "cell_type": "code",
   "execution_count": 34,
   "metadata": {},
   "outputs": [
    {
     "name": "stdout",
     "output_type": "stream",
     "text": [
      "[[0.09844024 0.88618903 0.03452631]\n",
      " [0.17290445 0.09655627 0.90515276]\n",
      " [0.27549743 0.65703494 0.41400648]\n",
      " [0.90343043 0.61368495 0.68666797]\n",
      " [0.38311459 0.84590956 0.29427521]\n",
      " [0.38593332 0.73484685 0.74809553]\n",
      " [0.151646   0.80367753 0.46462202]\n",
      " [0.93736193 0.06857238 0.94066429]\n",
      " [0.71543116 0.94711587 0.78627819]\n",
      " [0.60262993 0.5569865  0.6640288 ]]\n",
      "[0.88618903 0.17290445 0.41400648 0.61368495 0.38311459 0.38593332\n",
      " 0.46462202 0.06857238 0.71543116 0.5569865 ]\n"
     ]
    }
   ],
   "source": [
    "import math\n",
    "import numpy as np\n",
    "a = np.random.random((10,3))\n",
    "print(a)\n",
    "n=a[np.arange(10),np.abs(a - 0.5).argmin(axis=1)]\n",
    "print(n)"
   ]
  },
  {
   "cell_type": "code",
   "execution_count": 18,
   "metadata": {},
   "outputs": [
    {
     "name": "stdout",
     "output_type": "stream",
     "text": [
      "[[0.61371196 0.58356848 0.09625288 0.89351316 0.33689871 0.05610506]\n",
      " [0.50543583 0.81377862 0.13878215 0.8081601  0.43008446 0.88860076]\n",
      " [0.52976546 0.17605686 0.2237265  0.06684021 0.71629053 0.2408858 ]\n",
      " [0.28338525 0.04777804 0.29453179 0.19610486 0.99098087 0.0792897 ]\n",
      " [0.98606316 0.5660475  0.37891895 0.93491312 0.89108494 0.84022527]\n",
      " [0.02012931 0.89123549 0.82518515 0.68133958 0.52358377 0.34300613]]\n",
      "[128.17381647  75.03116819  20.29617528  28.30737147  13.64580162\n",
      "  58.54158774]\n"
     ]
    }
   ],
   "source": [
    "import numpy as np\n",
    "a = np.random.random((6,6))\n",
    "print(a)\n",
    "print(a.sum(axis=1)/a.min(axis=0))"
   ]
  },
  {
   "cell_type": "code",
   "execution_count": 32,
   "metadata": {},
   "outputs": [
    {
     "name": "stdout",
     "output_type": "stream",
     "text": [
      "[6 2 0 3 0 0 5 7 0]\n",
      "5\n"
     ]
    }
   ],
   "source": [
    "import numpy as np\n",
    "x = np.array([6,2,0,3,0,0,5,7,0])\n",
    "print(x)\n",
    "print(x[np.where(x[:-1]==0)[0]+1].max())"
   ]
  },
  {
   "cell_type": "code",
   "execution_count": 33,
   "metadata": {},
   "outputs": [
    {
     "name": "stdout",
     "output_type": "stream",
     "text": [
      "[1. 1. 1. 1. 1. 1. 1. 1. 1. 1.] [0 1 2 3 5 5 5 8]\n",
      "[2. 2. 2. 2. 1. 4. 1. 1. 2. 1.]\n"
     ]
    }
   ],
   "source": [
    "import numpy as np\n",
    "x = np.ones(10)\n",
    "i=np.array([0,1,2,3,5,5,5,8])\n",
    "print(x,i)\n",
    "np.add.at(x,i,1)\n",
    "print(x)"
   ]
  },
  {
   "cell_type": "code",
   "execution_count": 35,
   "metadata": {},
   "outputs": [
    {
     "name": "stdout",
     "output_type": "stream",
     "text": [
      "[[ 0  1  2  3]\n",
      " [ 4  5  6  7]\n",
      " [ 8  9 10 11]\n",
      " [12 13 14 15]]\n",
      "0 : [0]\n",
      "1 : [1]\n",
      "1 : [4]\n",
      "2 : [2]\n",
      "2 : [5]\n",
      "2 : [8]\n",
      "3 : [3]\n",
      "3 : [6]\n",
      "3 : [9]\n",
      "3 : [12]\n",
      "4 : [7]\n",
      "4 : [10]\n",
      "4 : [13]\n",
      "5 : [11]\n",
      "5 : [14]\n",
      "6 : [15]\n"
     ]
    }
   ],
   "source": [
    "import numpy as np\n",
    "a = np.arange(16).reshape(4,4)\n",
    "print(a)\n",
    "n=a.shape[0]\n",
    "k=0\n",
    "for i in range(n*2-1):\n",
    "    for j in range(i+1):\n",
    "        if j<n and i-j<n:\n",
    "            print(i,\":\",[a[j,i-j]])"
   ]
  },
  {
   "cell_type": "code",
   "execution_count": 3,
   "metadata": {},
   "outputs": [],
   "source": [
    "import math\n",
    "import numpy as np\n",
    "def get_score(pts, centroids, labels):\n",
    "    return sum( \\\n",
    "        np.linalg.norm(pts[labels == label] - centroids[label], axis=1).sum() \\\n",
    "            for label in range(centroids.shape[0]) \\\n",
    "    ) / pts.shape[0]\n",
    "def kmeans(obs, k_or_guess, iter=10, thresh=1e-04):\n",
    "    centroids = np.random.random((k_or_guess, obs.shape[1]))\n",
    "    labels = get_labels(obs, centroids)\n",
    "    score = get_score(obs, centroids, labels)\n",
    "    best_score = score\n",
    "    best_centroids = centroids\n",
    "    while True:\n",
    "        centroids = np.array([obs[labels == label].mean(axis=0) for label in range(centroids.shape[0])])\n",
    "        labels = get_labels(obs, centroids)\n",
    "        old_score = score\n",
    "        score = get_score(obs, centroids, labels)\n",
    "\n",
    "        if score < best_score:\n",
    "            best_score = score\n",
    "            best_centroids = centroids\n",
    "        \n",
    "        if not isinstance(k_or_guess, np.ndarray):\n",
    "            iter = iter - 1\n",
    "            if iter == 0:\n",
    "                break\n",
    "        \n",
    "        if abs(score - old_score) < thresh:\n",
    "            break\n",
    "\n",
    "    return best_centroids, best_score\n"
   ]
  },
  {
   "cell_type": "code",
   "execution_count": null,
   "metadata": {},
   "outputs": [],
   "source": []
  },
  {
   "cell_type": "code",
   "execution_count": null,
   "metadata": {},
   "outputs": [],
   "source": []
  }
 ],
 "metadata": {
  "kernelspec": {
   "display_name": "Python 3",
   "language": "python",
   "name": "python3"
  },
  "language_info": {
   "codemirror_mode": {
    "name": "ipython",
    "version": 3
   },
   "file_extension": ".py",
   "mimetype": "text/x-python",
   "name": "python",
   "nbconvert_exporter": "python",
   "pygments_lexer": "ipython3",
   "version": "3.7.0"
  }
 },
 "nbformat": 4,
 "nbformat_minor": 2
}
