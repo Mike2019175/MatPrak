{
 "cells": [
  {
   "cell_type": "code",
   "execution_count": 6,
   "metadata": {},
   "outputs": [
    {
     "name": "stdout",
     "output_type": "stream",
     "text": [
      "введите число:5\n",
      "[1, 1, 2, 3]\n"
     ]
    }
   ],
   "source": [
    "x=[1, 1, 2, 3, 5, 8, 13, 21, 34, 55, 89]\n",
    "N=int(input(\"введите число:\"))\n",
    "a=[]\n",
    "for i in x:\n",
    "    if i < N:\n",
    "        a.append(i)\n",
    "print(a)"
   ]
  },
  {
   "cell_type": "code",
   "execution_count": 7,
   "metadata": {},
   "outputs": [
    {
     "name": "stdout",
     "output_type": "stream",
     "text": [
      "[1, 2, 3, 5, 8, 13, 89, 21]\n"
     ]
    }
   ],
   "source": [
    "a = [1, 1, 2, 3, 5, 8, 13, 34, 55, 89,789,21]\n",
    "b = [1, 2, 3, 4, 5, 6, 7, 8, 9, 10, 11, 12, 13,89,65,21]\n",
    "c=[]\n",
    "for i in a:\n",
    "    for j in b:\n",
    "        if i==j:\n",
    "            c.append(i)\n",
    "d=[]\n",
    "for i in c:\n",
    "    if i not in d:\n",
    "        d.append(i)\n",
    "print(d)"
   ]
  },
  {
   "cell_type": "code",
   "execution_count": 8,
   "metadata": {},
   "outputs": [
    {
     "name": "stdout",
     "output_type": "stream",
     "text": [
      "угадай число:7\n",
      "слишком много\n",
      "угадай число:3\n",
      "слишком мало\n",
      "угадай число:5\n",
      "ты угадал\n",
      "всего попыток: 3\n",
      "игра окнчена\n"
     ]
    }
   ],
   "source": [
    "import random\n",
    "num=random.randint(1,9)\n",
    "guess=0\n",
    "count=0\n",
    "if guess==\"выход\":\n",
    "    print(\"игра окончена\")\n",
    "while guess!=\"выход\":\n",
    "    guess=input(\"угадай число:\")\n",
    "    guess=int(guess)\n",
    "    count=count+1\n",
    "    if guess<num:\n",
    "        print(\"слишком мало\")\n",
    "    elif guess>num:\n",
    "        print(\"слишком много\")\n",
    "    else:\n",
    "        print(\"ты угадал\")\n",
    "        print(\"всего попыток:\",count)\n",
    "        print(\"игра окнчена\")\n",
    "        guess=\"выход\""
   ]
  },
  {
   "cell_type": "code",
   "execution_count": 9,
   "metadata": {},
   "outputs": [
    {
     "name": "stdout",
     "output_type": "stream",
     "text": [
      "сколько чисел нужно сгенерировать ?:12\n",
      "1\n",
      "1\n",
      "2\n",
      "3\n",
      "5\n",
      "8\n",
      "13\n",
      "21\n",
      "34\n",
      "55\n",
      "89\n",
      "144\n"
     ]
    }
   ],
   "source": [
    "def fibb(n):\n",
    "    if n == 0:\n",
    "        return 0\n",
    "    elif n == 1:\n",
    "        return 1\n",
    "    else:\n",
    "        return fibb(n-1) + fibb(n-2)\n",
    "m=int(input(\"сколько чисел нужно сгенерировать ?:\"))\n",
    "for i in range(m):\n",
    "    print(fibb(i+1))"
   ]
  },
  {
   "cell_type": "code",
   "execution_count": 11,
   "metadata": {},
   "outputs": [
    {
     "name": "stdout",
     "output_type": "stream",
     "text": [
      "попробуй угадать число:1234\n",
      "число коров: 0\n",
      "число быков: 1\n",
      "число догадок: 1\n",
      "попробуй угадать число:1235\n",
      "число коров: 0\n",
      "число быков: 2\n",
      "число догадок: 2\n",
      "попробуй угадать число:1265\n",
      "число коров: 1\n",
      "число быков: 2\n",
      "число догадок: 3\n",
      "попробуй угадать число:1365\n",
      "число коров: 1\n",
      "число быков: 2\n",
      "число догадок: 4\n",
      "попробуй угадать число:5163\n",
      "число коров: 2\n",
      "число быков: 1\n",
      "число догадок: 5\n",
      "попробуй угадать число:5361\n",
      "число коров: 3\n",
      "число быков: 0\n",
      "число догадок: 6\n",
      "попробуй угадать число:5362\n",
      "число коров: 2\n",
      "число быков: 0\n",
      "число догадок: 7\n",
      "попробуй угадать число:5261\n",
      "число коров: 3\n",
      "число быков: 0\n",
      "число догадок: 8\n",
      "попробуй угадать число:5461\n",
      "число коров: 3\n",
      "число быков: 0\n",
      "число догадок: 9\n",
      "попробуй угадать число:5761\n",
      "число коров: 3\n",
      "число быков: 0\n",
      "число догадок: 10\n",
      "попробуй угадать число:5861\n",
      "число коров: 3\n",
      "число быков: 0\n",
      "число догадок: 11\n",
      "попробуй угадать число:5961\n",
      "число коров: 3\n",
      "число быков: 0\n",
      "число догадок: 12\n",
      "попробуй угадать число:5561\n",
      "число коров: 3\n",
      "число быков: 1\n",
      "число догадок: 13\n",
      "попробуй угадать число:5661\n",
      "число коров: 3\n",
      "число быков: 1\n",
      "число догадок: 14\n",
      "попробуй угадать число:5161\n",
      "число коров: 3\n",
      "число быков: 1\n",
      "число догадок: 15\n",
      "попробуй угадать число:5061\n",
      "число коров: 4\n",
      "число быков: 0\n",
      "число догадок: 16\n",
      "игра окончена\n"
     ]
    }
   ],
   "source": [
    "def get_digit_of_number(number,n):\n",
    "    return (number//(10**n))%10 \n",
    "import random\n",
    "num=random.randint(1000,9999)\n",
    "cow=0\n",
    "bull=0\n",
    "guess=0\n",
    "while a!=num:\n",
    "    a=int(input(\"попробуй угадать число:\"))\n",
    "    for i in range(4):\n",
    "        b=get_digit_of_number(num,i)\n",
    "        if get_digit_of_number(num,i)==get_digit_of_number(a,i):\n",
    "            cow=cow+1\n",
    "        for j in range(4):\n",
    "            if get_digit_of_number(a,j)==b and get_digit_of_number(a,j)!=get_digit_of_number(num,j):\n",
    "                bull=bull+1\n",
    "    print(\"число коров:\",cow)\n",
    "    print(\"число быков:\",bull)\n",
    "    cow=0\n",
    "    bull=0\n",
    "    guess=guess+1\n",
    "    print(\"число догадок:\",guess)\n",
    "print(\"игра окончена\")"
   ]
  },
  {
   "cell_type": "code",
   "execution_count": null,
   "metadata": {},
   "outputs": [],
   "source": []
  }
 ],
 "metadata": {
  "kernelspec": {
   "display_name": "Python 3",
   "language": "python",
   "name": "python3"
  },
  "language_info": {
   "codemirror_mode": {
    "name": "ipython",
    "version": 3
   },
   "file_extension": ".py",
   "mimetype": "text/x-python",
   "name": "python",
   "nbconvert_exporter": "python",
   "pygments_lexer": "ipython3",
   "version": "3.7.0"
  }
 },
 "nbformat": 4,
 "nbformat_minor": 2
}
